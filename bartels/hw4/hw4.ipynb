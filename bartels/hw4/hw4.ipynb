{
 "cells": [
  {
   "cell_type": "code",
   "execution_count": 189,
   "metadata": {},
   "outputs": [],
   "source": [
    "import numpy as np\n",
    "import matplotlib.pyplot as plt"
   ]
  },
  {
   "cell_type": "code",
   "execution_count": 190,
   "metadata": {},
   "outputs": [],
   "source": [
    "def uniform(a, b):\n",
    "    return (b-a)*np.random.random() + a"
   ]
  },
  {
   "cell_type": "code",
   "execution_count": 191,
   "metadata": {},
   "outputs": [
    {
     "name": "stdout",
     "output_type": "stream",
     "text": [
      "0.9945421473282385\n"
     ]
    }
   ],
   "source": [
    "def f(x, R):\n",
    "    return np.sqrt(abs(x*x-R*R))\n",
    "\n",
    "print(f((1.0-0)*np.random.random()+0, 1.0))"
   ]
  },
  {
   "cell_type": "code",
   "execution_count": 343,
   "metadata": {},
   "outputs": [
    {
     "name": "stdout",
     "output_type": "stream",
     "text": [
      "x_l: 787 y_l: 213\n"
     ]
    }
   ],
   "source": [
    "y_l = 0\n",
    "x_l = 0\n",
    "for i in range(1000):\n",
    "    y = uniform(0, 1.0)\n",
    "    #print('y', y)\n",
    "    x = uniform(0, 1.0)\n",
    "    #print('x', x)\n",
    "    x = f(x, 1.0)\n",
    "    #print('x', x)\n",
    "    if y > x:\n",
    "        y_l+= 1\n",
    "    else:\n",
    "        x_l+= 1\n",
    "print('x_l:', x_l, 'y_l:', y_l)"
   ]
  },
  {
   "cell_type": "code",
   "execution_count": 344,
   "metadata": {},
   "outputs": [],
   "source": [
    "def uniform():\n",
    "    return np.random.random(), np.random.random()"
   ]
  },
  {
   "cell_type": "code",
   "execution_count": 351,
   "metadata": {},
   "outputs": [],
   "source": [
    "list_x = []\n",
    "list_y = []"
   ]
  },
  {
   "cell_type": "code",
   "execution_count": 353,
   "metadata": {},
   "outputs": [],
   "source": [
    "list_x.append(uniform()[0])\n",
    "list_y.append(uniform()[1])"
   ]
  },
  {
   "cell_type": "code",
   "execution_count": 355,
   "metadata": {},
   "outputs": [
    {
     "name": "stdout",
     "output_type": "stream",
     "text": [
      "[0.6713294610018241]\n",
      "[0.790694438197338]\n"
     ]
    }
   ],
   "source": [
    "print(list_x)\n",
    "print(list_y)"
   ]
  },
  {
   "cell_type": "code",
   "execution_count": 358,
   "metadata": {},
   "outputs": [],
   "source": [
    "x = np.random.random(2)\n",
    "y = np.random.random(2)"
   ]
  },
  {
   "cell_type": "code",
   "execution_count": 359,
   "metadata": {},
   "outputs": [],
   "source": [
    "a = y < x"
   ]
  },
  {
   "cell_type": "code",
   "execution_count": 362,
   "metadata": {},
   "outputs": [
    {
     "data": {
      "text/plain": [
       "2"
      ]
     },
     "execution_count": 362,
     "metadata": {},
     "output_type": "execute_result"
    }
   ],
   "source": [
    "np.sum(y < x)"
   ]
  }
 ],
 "metadata": {
  "kernelspec": {
   "display_name": "icds",
   "language": "python",
   "name": "python3"
  },
  "language_info": {
   "codemirror_mode": {
    "name": "ipython",
    "version": 3
   },
   "file_extension": ".py",
   "mimetype": "text/x-python",
   "name": "python",
   "nbconvert_exporter": "python",
   "pygments_lexer": "ipython3",
   "version": "3.11.2"
  },
  "orig_nbformat": 4
 },
 "nbformat": 4,
 "nbformat_minor": 2
}
