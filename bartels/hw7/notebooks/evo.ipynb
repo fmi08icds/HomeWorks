{
 "cells": [
  {
   "cell_type": "code",
   "execution_count": 235,
   "metadata": {},
   "outputs": [],
   "source": [
    "from numpy import random, mean, std\n",
    "from math import sqrt, exp\n",
    "from matplotlib import pyplot as plt\n",
    "from argparse import ArgumentParser, ArgumentDefaultsHelpFormatter, SUPPRESS"
   ]
  },
  {
   "cell_type": "code",
   "execution_count": 275,
   "metadata": {},
   "outputs": [],
   "source": [
    "# def initialise(N, n, x_l, x_u):\n",
    "#     \"\"\"\n",
    "#         Initialise population with random values in the range of [x_l, x_u]\n",
    "#         Initialise the standard deviation in a specific range\n",
    "#     \"\"\"\n",
    "#     all_x = random.uniform(low=x_l, high=x_u, size=(N, n))\n",
    "#     # ?? what is my eta?\n",
    "#     all_eta = random.uniform(low=(x_u - x_l) * 0.1,\n",
    "#                              high=(x_u - x_l) * 0.2, size=(N, n))\n",
    "\n",
    "#     return list(zip(all_x, all_eta))\n",
    "\n",
    "def initialise(N, n, x_l, x_u):\n",
    "    \"\"\"\n",
    "        Initialise population with random values in the range of [x_l, x_u]\n",
    "        Initialise the standard deviation in a specific range\n",
    "    \"\"\"\n",
    "    all_x = random.uniform(low=x_l, high=x_u, size=(N, n))\n",
    "    eta = std(all_x, axis=0)\n",
    "    all_eta = [eta] * N\n",
    "\n",
    "    return list(zip(all_x, all_eta))"
   ]
  },
  {
   "cell_type": "code",
   "execution_count": 237,
   "metadata": {},
   "outputs": [],
   "source": [
    "def evaluate(pop, f) :\n",
    "    \"\"\"\n",
    "        evaluate the fitness of each individual of the population with the selected function of the three possible functions\n",
    "    \"\"\"\n",
    "    fitnesses = []\n",
    "    for x, eta in pop:\n",
    "        fitness = f(x)\n",
    "        fitnesses.append(fitness)\n",
    "    return fitnesses"
   ]
  },
  {
   "cell_type": "code",
   "execution_count": 238,
   "metadata": {},
   "outputs": [],
   "source": [
    "def mutate(pop):\n",
    "    \"\"\"\n",
    "        Mutate the population with the formula for objective variables and strategy parameters seen on slide 14\n",
    "    \"\"\"\n",
    "    n = len(pop[0][0])  # get the dimension of the solution space here.\n",
    "    N = len(pop)  # the population size\n",
    "    new_pop = []\n",
    "    tau = (sqrt(2*sqrt(n)))**-1\n",
    "    tau_prime = (sqrt(2*n))**-1\n",
    "\n",
    "    for i in range(N):\n",
    "        # ?? following 3 lines correct?\n",
    "        individual = pop[i][0]\n",
    "        eta = pop[i][1]\n",
    "        m_individual = individual + eta * random.random()\n",
    "        m_eta = eta * exp(tau_prime*random.random() + tau*random.random())\n",
    "        new_pop.append((m_individual, m_eta))\n",
    "\n",
    "    return new_pop"
   ]
  },
  {
   "cell_type": "code",
   "execution_count": 272,
   "metadata": {},
   "outputs": [],
   "source": [
    "# def select(pop, fitnesses, N, q=10):\n",
    "#     \"\"\"\n",
    "#         Your docstr here\n",
    "#     \"\"\"\n",
    "#     selected_pop = []\n",
    "#     for x, eta in pop:\n",
    "#         selected_pop.append((x, eta))\n",
    "\n",
    "#     return selected_pop\n",
    "\n",
    "def select(pop, fitnesses, N, q=10):\n",
    "    \"\"\"\n",
    "        Your docstr here\n",
    "    \"\"\"\n",
    "    selected_pop = []\n",
    "    fitnesses_ranking = [0] * len(pop)\n",
    "    for i in range(0, len(pop)):\n",
    "        fitnessess_indices = random.choice(\n",
    "            len(fitnesses), size=q)\n",
    "        for fi in fitnessess_indices:\n",
    "            if fitnesses[i] < fitnesses[fi]:\n",
    "                fitnesses_ranking[i] += 1\n",
    "    top_indices = sorted(range(len(fitnesses_ranking)),\n",
    "                         key=lambda i: fitnesses_ranking[i], reverse=True)[:N]\n",
    "    selected_pop = [pop[i] for i in top_indices]\n",
    "\n",
    "    return selected_pop"
   ]
  },
  {
   "cell_type": "code",
   "execution_count": 264,
   "metadata": {},
   "outputs": [],
   "source": [
    "def dea(params):\n",
    "    \"\"\"\n",
    "        Your docstr here\n",
    "    \"\"\"\n",
    "\n",
    "    T = params['T']  # get the coresponding parameter from the params dict.\n",
    "    prev_pop = params[\"init_pop\"]\n",
    "\n",
    "    t = 0\n",
    "    mean_fit = [mean(evaluate(prev_pop, params['f']))]\n",
    "    while t < T:\n",
    "        # write your code here to implement the DEA. The steps should be 1. mutate, 2. evaluate, 3. select\n",
    "        #new_pop = mutate(prev_pop)\n",
    "        #eval_fit = evaluate(new_pop, params['f'])\n",
    "        #prev_pop = select(new_pop, eval_fit, params['N'])\n",
    "        m = mean(evaluate(prev_pop, params['f']))\n",
    "        mean_fit += [m]\n",
    "        print(f\"Mean fitness {t} : \", m)\n",
    "\n",
    "        t += 1\n",
    "    return prev_pop, mean_fit"
   ]
  },
  {
   "cell_type": "code",
   "execution_count": 265,
   "metadata": {},
   "outputs": [],
   "source": [
    "def parseArguments():\n",
    "    parser = ArgumentParser(formatter_class=ArgumentDefaultsHelpFormatter, argument_default=SUPPRESS)\n",
    "    parser.add_argument(\"-n\", '--length' ,type=int, default=1, help= \"The dimension of the solution space\")\n",
    "    parser.add_argument('-T', type=int, default=50, help='Number of generation of the DEA')\n",
    "    parser.add_argument('-N', type=int, default=100, help='Population size')\n",
    "    parser.add_argument('-xL', type=float, default=-3.,  help='Lower bound of the the solution space')\n",
    "    parser.add_argument('-xU', type=float, default=3.,  help='Upper bound of the the solution space')\n",
    "    parser.add_argument('-q', type=int, default=10,  help='number of mutants for parwise comparison')\n",
    "    parser.add_argument('--verbose', action=\"store_true\", default=False, help=\"Print the mean fitness evolution on a standard output \" )\n",
    "    parser.add_argument('-seed', type=int, default=None, help=\"Seed for the initial population\")\n",
    "    return parser.parse_args()"
   ]
  },
  {
   "cell_type": "code",
   "execution_count": 266,
   "metadata": {},
   "outputs": [],
   "source": [
    "N = 100 # 100\n",
    "n = 1 # 1\n",
    "length = 1 # 1\n",
    "xL = -2 # -3\n",
    "xU = 2 # 3\n",
    "q = 10 # 10"
   ]
  },
  {
   "cell_type": "code",
   "execution_count": 267,
   "metadata": {},
   "outputs": [
    {
     "name": "stdout",
     "output_type": "stream",
     "text": [
      "Function 1\n"
     ]
    }
   ],
   "source": [
    "f = lambda x: sum(x**2)\n",
    "if n==1 and xL == -2 and xU == 2:\n",
    "    print('Function 1')\n",
    "    f = lambda x: x**4 + x**3 - x**2 - x\n",
    "elif n==30 and xL == -100 and xU == 100:\n",
    "    f = lambda x: sum(x**2.0)\n",
    "    print('Function 2')\n",
    "elif n==2 and xL == -30 and xU == 30:\n",
    "    # f equals the sum from j=1 to j=n-1 of (100(x_j+1-x_j^2)^2 + (x_j-1)^2)\n",
    "    f = lambda x: sum(100*(x[1:]-x[:-1]**2)**2 + (x[:-1]-1)**2)\n",
    "    print('Function 3')"
   ]
  },
  {
   "cell_type": "code",
   "execution_count": 274,
   "metadata": {},
   "outputs": [
    {
     "data": {
      "text/plain": [
       "3.7744178178301153"
      ]
     },
     "execution_count": 274,
     "metadata": {},
     "output_type": "execute_result"
    }
   ],
   "source": [
    "prev_pop = initialise(N, length, xL, xU)\n",
    "# prev_pop\n",
    "\n",
    "mean_fit = [mean(evaluate(prev_pop, f))]\n",
    "\n",
    "# write your code here to implement the DEA. The steps should be 1. mutate, 2. evaluate, 3. select\n",
    "\n",
    "new_pop = mutate(prev_pop)\n",
    "# new_pop\n",
    "\n",
    "eval_fit = evaluate(new_pop, f)\n",
    "#eval_fit\n",
    "\n",
    "prev_pop_1 = select(new_pop, eval_fit, N)\n",
    "#prev_pop_1\n",
    "\n",
    "m = mean(evaluate(prev_pop_1, f))\n",
    "m"
   ]
  },
  {
   "cell_type": "code",
   "execution_count": 234,
   "metadata": {},
   "outputs": [
    {
     "data": {
      "text/plain": [
       "list"
      ]
     },
     "execution_count": 234,
     "metadata": {},
     "output_type": "execute_result"
    }
   ],
   "source": [
    "type(prev_pop)"
   ]
  },
  {
   "cell_type": "code",
   "execution_count": 228,
   "metadata": {},
   "outputs": [
    {
     "data": {
      "text/plain": [
       "(array([-0.05142214]), array([0.50767766]))"
      ]
     },
     "execution_count": 228,
     "metadata": {},
     "output_type": "execute_result"
    }
   ],
   "source": [
    "prev_pop[0]"
   ]
  },
  {
   "cell_type": "code",
   "execution_count": 232,
   "metadata": {},
   "outputs": [
    {
     "data": {
      "text/plain": [
       "[2.136352207409729]"
      ]
     },
     "execution_count": 232,
     "metadata": {},
     "output_type": "execute_result"
    }
   ],
   "source": [
    "mean_fit"
   ]
  },
  {
   "cell_type": "code",
   "execution_count": 231,
   "metadata": {},
   "outputs": [
    {
     "data": {
      "text/plain": [
       "(array([0.0138951]), array([1.61684066]))"
      ]
     },
     "execution_count": 231,
     "metadata": {},
     "output_type": "execute_result"
    }
   ],
   "source": [
    "new_pop[0]"
   ]
  },
  {
   "cell_type": "code",
   "execution_count": 230,
   "metadata": {},
   "outputs": [
    {
     "data": {
      "text/plain": [
       "array([0.04864892])"
      ]
     },
     "execution_count": 230,
     "metadata": {},
     "output_type": "execute_result"
    }
   ],
   "source": [
    "eval_fit[0]"
   ]
  },
  {
   "cell_type": "code",
   "execution_count": 229,
   "metadata": {},
   "outputs": [
    {
     "data": {
      "text/plain": [
       "array([1.61684066])"
      ]
     },
     "execution_count": 229,
     "metadata": {},
     "output_type": "execute_result"
    }
   ],
   "source": [
    "prev_pop_1[0]"
   ]
  },
  {
   "cell_type": "code",
   "execution_count": 90,
   "metadata": {},
   "outputs": [],
   "source": [
    "def main():\n",
    "    args = parseArguments()\n",
    "\n",
    "    if args.length == 1 and args.xL == -2 and args.xU == 2:\n",
    "        print('Function 1')\n",
    "        def f(x): return x**4 + x**3 - x**2 - x\n",
    "        f.__doc__ = 'Function 1 [ x**4 + x**3 - x**2 - x ]'\n",
    "    elif args.length == 30 and args.xL == -100 and args.xU == 100:\n",
    "        print('Function 2')\n",
    "        def f(x): return sum(x**2)\n",
    "        f.__doc__ = 'Function 2 [ sum(x**2) ]'\n",
    "    elif args.length == 2 and args.xL == -30 and args.xU == 30:\n",
    "        print('Function 3')\n",
    "        def f(x): return sum(100*(x[1:]-x[:-1]**2)**2 + (x[:-1]-1)**2)\n",
    "        f.__doc__ = 'Function 3 [ sum(100*(x[1:]-x[:-1]**2)**2 + (x[:-1]-1)**2) ]'\n",
    "    else:\n",
    "        print('NONE')\n",
    "\n",
    "    params = {\n",
    "        'n': args.length,\n",
    "        'T': args.T,\n",
    "        'q': args.q,\n",
    "        'N': args.N,\n",
    "        'f': f,\n",
    "        'verbose': args.verbose,\n",
    "        'xU': args.xU,\n",
    "        'xL': args.xL\n",
    "    }\n",
    "\n",
    "    params['init_pop'] = initialise(args.N, args.length, args.xL, args.xU)\n",
    "\n",
    "    best_pop, mean_fitnesses = dea(params)\n",
    "    print(\"Best population : \", best_pop)\n",
    "    plt.plot(mean_fitnesses, \"o-\")\n",
    "    plt.title(\"Optimization of the function \"+f.__doc__)\n",
    "    plt.xlabel(\"Generation(t)\")\n",
    "    plt.ylabel(\"Population mean fitness\")\n",
    "    plt.show()"
   ]
  }
 ],
 "metadata": {
  "kernelspec": {
   "display_name": "icds",
   "language": "python",
   "name": "python3"
  },
  "language_info": {
   "codemirror_mode": {
    "name": "ipython",
    "version": 3
   },
   "file_extension": ".py",
   "mimetype": "text/x-python",
   "name": "python",
   "nbconvert_exporter": "python",
   "pygments_lexer": "ipython3",
   "version": "3.11.2"
  },
  "orig_nbformat": 4
 },
 "nbformat": 4,
 "nbformat_minor": 2
}
