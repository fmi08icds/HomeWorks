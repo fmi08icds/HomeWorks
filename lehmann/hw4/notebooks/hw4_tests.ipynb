{
 "cells": [
  {
   "cell_type": "code",
   "execution_count": 2,
   "metadata": {},
   "outputs": [],
   "source": [
    "import numpy as np"
   ]
  },
  {
   "cell_type": "code",
   "execution_count": 3,
   "metadata": {},
   "outputs": [],
   "source": [
    "def uniform(a,b) :\n",
    "        return (b-a)*np.random.random() + a\n",
    "\n",
    "def f(x,R) :\n",
    "        return np.sqrt(abs(x*x-R*R))"
   ]
  },
  {
   "cell_type": "code",
   "execution_count": 4,
   "metadata": {},
   "outputs": [],
   "source": [
    "def NoName(N) :\n",
    "    \"\"\"\n",
    "     This is a no name function. after figuring out what it does you're allowed to rename\n",
    "    \"\"\"\n",
    "    Ninf = 0\n",
    "    R = 1.0\n",
    "\n",
    "    list_x = []\n",
    "    list_y = []\n",
    "\n",
    "    for i in range(N) :\n",
    "            list_x.append(uniform(0,R))\n",
    "            list_y.append(uniform(0,R))\n",
    "\n",
    "    list_accepted_x = []\n",
    "\n",
    "    for i in range(N) :\n",
    "            if (list_y[i]< f(list_x[i],R)) :\n",
    "                    list_accepted_x.append(list_x[i])\n",
    "\n",
    "\n",
    "\n",
    "    Ninf = len(list_accepted_x)\n",
    "    fin = Ninf/float(N)\n",
    "\n",
    "\n",
    "    return 4*fin"
   ]
  },
  {
   "cell_type": "code",
   "execution_count": 24,
   "metadata": {},
   "outputs": [],
   "source": [
    "def monteCarlo(N: int) :\n",
    "    \"\"\"\n",
    "     Estimates Pi based on the Monte Carlo approach.\n",
    "     \n",
    "     N: Number of points to be generated \n",
    "    \"\"\"\n",
    "    Ninf = 0\n",
    "    R = 1.0\n",
    "\n",
    "    list_c = [uniform(0,R) for _ in range(N*2)]\n",
    "    list_y = list_c[:N]\n",
    "    list_x = list_c[N:]\n",
    "    #list_x = [uniform(0,R) for _ in range(N)]\n",
    "    #list_y = [uniform(0,R) for _ in range(N)]\n",
    "\n",
    "    list_accepted_x = [list_x[i] for i in range(N) if list_y[i] < f(list_x[i],R)]\n",
    "\n",
    "    Ninf = len(list_accepted_x)\n",
    "    fin = Ninf/float(N)\n",
    "\n",
    "\n",
    "    return 4*fin"
   ]
  },
  {
   "cell_type": "code",
   "execution_count": 25,
   "metadata": {},
   "outputs": [],
   "source": [
    "import time"
   ]
  },
  {
   "cell_type": "code",
   "execution_count": 28,
   "metadata": {},
   "outputs": [
    {
     "name": "stdout",
     "output_type": "stream",
     "text": [
      "0.027530837059020995\n"
     ]
    }
   ],
   "source": [
    "saveTime = 0\n",
    "for i in range(100):\n",
    "    start = time.time()\n",
    "    monteCarlo(10000)\n",
    "    finish = time.time()\n",
    "    saveTime +=finish - start\n",
    "print(saveTime/100)"
   ]
  },
  {
   "cell_type": "code",
   "execution_count": 29,
   "metadata": {},
   "outputs": [
    {
     "name": "stdout",
     "output_type": "stream",
     "text": [
      "0.02828967571258545\n"
     ]
    }
   ],
   "source": [
    "saveTime = 0\n",
    "for i in range(100):\n",
    "    start = time.time()\n",
    "    NoName(10000)\n",
    "    finish = time.time()\n",
    "    saveTime +=finish - start\n",
    "print(saveTime/100)"
   ]
  },
  {
   "cell_type": "code",
   "execution_count": 9,
   "metadata": {},
   "outputs": [],
   "source": [
    "import matplotlib.pyplot as plt"
   ]
  },
  {
   "cell_type": "code",
   "execution_count": 14,
   "metadata": {},
   "outputs": [],
   "source": [
    "def main () :\n",
    "\n",
    "    M = 20\n",
    "    N = 1000\n",
    "\n",
    "    list_mu = []\n",
    "    list_sigma= []\n",
    "\n",
    "\n",
    "    for i in range(M) :\n",
    "\n",
    "        list_rst = [NoName(N) for _ in range(M)]\n",
    "        list_mu.append(np.mean(list_rst))\n",
    "        list_sigma.append(np.std(list_rst))\n",
    "        print (i)\n",
    "\n",
    "\n",
    "    plt.hist(list_mu, bins=np.linspace(3.12, 3.17, 100))\n",
    "    plt.show()"
   ]
  },
  {
   "cell_type": "code",
   "execution_count": 15,
   "metadata": {},
   "outputs": [
    {
     "name": "stdout",
     "output_type": "stream",
     "text": [
      "0\n",
      "1\n",
      "2\n",
      "3\n",
      "4\n",
      "5\n",
      "6\n",
      "7\n",
      "8\n",
      "9\n",
      "10\n",
      "11\n",
      "12\n",
      "13\n",
      "14\n",
      "15\n",
      "16\n",
      "17\n",
      "18\n",
      "19\n"
     ]
    },
    {
     "data": {
      "image/png": "[encoded data removed]",
      "text/plain": [
       "<Figure size 640x480 with 1 Axes>"
      ]
     },
     "metadata": {},
     "output_type": "display_data"
    }
   ],
   "source": [
    "main()"
   ]
  },
  {
   "cell_type": "code",
   "execution_count": null,
   "metadata": {},
   "outputs": [],
   "source": []
  }
 ],
 "metadata": {
  "kernelspec": {
   "display_name": "Python 3",
   "language": "python",
   "name": "python3"
  },
  "language_info": {
   "codemirror_mode": {
    "name": "ipython",
    "version": 3
   },
   "file_extension": ".py",
   "mimetype": "text/x-python",
   "name": "python",
   "nbconvert_exporter": "python",
   "pygments_lexer": "ipython3",
   "version": "3.11.3"
  },
  "orig_nbformat": 4
 },
 "nbformat": 4,
 "nbformat_minor": 2
}
