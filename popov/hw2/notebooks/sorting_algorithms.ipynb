{
 "cells": [
  {
   "cell_type": "code",
   "execution_count": 14,
   "id": "a3c0e5af-4c9a-4698-9dc0-8d67dd7ab0b3",
   "metadata": {},
   "outputs": [],
   "source": [
    "'''\n",
    "goal is to write a program that sorts a given list in ascending order. $\n",
    "\n",
    "First I will sort by going through the list, finding min value and then swapping to beginning. \n",
    "\n",
    "Then I will implement insertion sort and quicksort algorithms\n",
    "'''\n",
    "\n",
    "def simple_sort(unsorted):\n",
    "    # make a copy of the list, so as not to change original contents \n",
    "    my_list = unsorted[:] \n",
    "    N = len(my_list)     \n",
    "    for i in range(N): \n",
    "        current = my_list[i]\n",
    "        \n",
    "        for j in range(i+1,N):\n",
    "            if (my_list[j] < current): \n",
    "                current = my_list[j]\n",
    "                swap_index = j \n",
    "        \n",
    "        my_list[i], my_list[swap_index] = my_list[swap_index], my_list[i]\n",
    "        \n",
    "        \n",
    "    return my_list\n",
    "\n",
    "                "
   ]
  },
  {
   "cell_type": "code",
   "execution_count": 16,
   "id": "16d90fcb-df15-474e-bca0-1d2888049835",
   "metadata": {},
   "outputs": [
    {
     "data": {
      "text/plain": [
       "[1, 2, 2, 3, 7, 4, 4, 5, 6, 7, 8]"
      ]
     },
     "execution_count": 16,
     "metadata": {},
     "output_type": "execute_result"
    }
   ],
   "source": [
    "Tom = [8,7,3,2,4, 7, 5,  2,4, 1,6]\n",
    "\n",
    "simple_sort(Tom)\n"
   ]
  },
  {
   "cell_type": "code",
   "execution_count": null,
   "id": "3922edad-2344-4f77-8d3b-beef1e094da6",
   "metadata": {},
   "outputs": [],
   "source": []
  },
  {
   "cell_type": "code",
   "execution_count": null,
   "id": "896ebaac-625e-40dd-a3e1-bd0d6ffa8f26",
   "metadata": {},
   "outputs": [],
   "source": [
    "\n"
   ]
  }
 ],
 "metadata": {
  "kernelspec": {
   "display_name": "Python 3 (ipykernel)",
   "language": "python",
   "name": "python3"
  },
  "language_info": {
   "codemirror_mode": {
    "name": "ipython",
    "version": 3
   },
   "file_extension": ".py",
   "mimetype": "text/x-python",
   "name": "python",
   "nbconvert_exporter": "python",
   "pygments_lexer": "ipython3",
   "version": "3.10.9"
  }
 },
 "nbformat": 4,
 "nbformat_minor": 5
}
