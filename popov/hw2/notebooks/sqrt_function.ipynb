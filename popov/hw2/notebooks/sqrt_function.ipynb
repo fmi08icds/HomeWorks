{
 "cells": [
  {
   "cell_type": "code",
   "execution_count": 7,
   "id": "97bdbedf-f2c9-48f5-8d0a-e4a72c5d3073",
   "metadata": {},
   "outputs": [],
   "source": [
    "from math import sqrt "
   ]
  },
  {
   "cell_type": "code",
   "execution_count": 41,
   "id": "aca5d9a9-5633-4695-a9fb-70a51661c566",
   "metadata": {},
   "outputs": [],
   "source": [
    "def my_sqrt(n):\n",
    "    \n",
    "    #make sure user has input an integer value, otherwise change to integer. Can probably make this method work for float though.. \n",
    "    if int(n) != n:\n",
    "        n = int(n) \n",
    "        \n",
    "    if n == 0 or n == 1: \n",
    "        return n\n",
    "    \n",
    "    #choose step size for approximating root  (standard 10^-3) \n",
    "    error_size = 0.00001 \n",
    "    \n",
    "    # don't have to go through entire list of n. Since sqrt(n) < 1/2 * n for n >= 2.  \n",
    "    #n = n // 2  \n",
    "    \n",
    "    #create container list for perfect squares \n",
    "    perfect_squares = [] \n",
    "    for i in range(n): \n",
    "        perfect_squares.append((i+1)**2)    \n",
    "    # check if n is in the perfect squares list \n",
    "    for i in range(n): \n",
    "        if (n == perfect_squares[i]): #found an entry equal to n \n",
    "            root = n / (i+1)\n",
    "            return root\n",
    "            \n",
    "    # find the two perfect squares where n lies between \n",
    "    min_root, max_root = 0,0\n",
    "    for i in range(n):\n",
    "        if (n < perfect_squares[i]):\n",
    "            min_root, max_root = i , i+1 \n",
    "            break\n",
    "            \n",
    "            # found lower and upper bounds of  n \n",
    "            # here we know that min_root < n < max_root\n",
    "    \n",
    "    new_bound = (min_root + max_root)/2\n",
    "    while (max_root - min_root >= error_size): \n",
    "        \n",
    "        if (new_bound * new_bound < n):\n",
    "            min_root = new_bound\n",
    "        else: \n",
    "            max_root = new_bound \n",
    "            \n",
    "        new_bound = (min_root + max_root)/2\n",
    "    return min_root \n",
    "        \n",
    "        \n",
    "        \n",
    "    \n",
    "    \n",
    "    # what about the case for n < 1?? \n",
    "    # redo that case in the float version\n",
    "        \n",
    "        "
   ]
  },
  {
   "cell_type": "code",
   "execution_count": 42,
   "id": "8bcec1ff-af6f-4998-9f54-f4725acf2823",
   "metadata": {},
   "outputs": [
    {
     "name": "stdout",
     "output_type": "stream",
     "text": [
      "The approximated root of 500 is 22.360679626464844\n",
      "The actual root of 500 is 22.360679774997898\n"
     ]
    }
   ],
   "source": [
    "n = 500\n",
    "print(\"The approximated root of\", n, \"is\", my_sqrt(n))\n",
    "print(\"The actual root of\", n, \"is\", sqrt(n))\n"
   ]
  },
  {
   "cell_type": "markdown",
   "id": "7f3eb54a-d1a7-4098-ba99-737787aa7f76",
   "metadata": {},
   "source": [
    "# Testing the function according to the homework"
   ]
  },
  {
   "cell_type": "code",
   "execution_count": 2,
   "id": "bc94652c-368b-4963-94f8-591d56d844e3",
   "metadata": {},
   "outputs": [],
   "source": [
    "from numpy import random, sqrt, round\n",
    "from argparse import ArgumentParser, ArgumentDefaultsHelpFormatter, SUPPRESS\n",
    "\n",
    "\n",
    "\n",
    "def isperfect(n: int ):\n",
    "    \"\"\"\n",
    "        This function is the first helper. It takes an integer n and checks if n has a perfect square root or not.\n",
    "        If n has a perfect square root, then it returns True and its perfect square root. If not, it returns False and n.\n",
    "\n",
    "        INPUT: n as an integer.\n",
    "        OUTPUT: a tuple (bool, int).\n",
    "\n",
    "        Examples:\n",
    "        isperfect(0) = (True, 0)\n",
    "        isperfect(1) = (True, 1)\n",
    "        isperfect(3) = (False, 3)\n",
    "        isperfect(16) = (True, 4)\n",
    "    \"\"\"\n",
    "    if n == 0 or n == 1:\n",
    "        return (True, n)\n",
    "\n",
    "    ### BEGIN CODE #####\n",
    "    for i in range(n) : # Hint: you can use the range, or any sequence type. if you don't remember how it works, have a look at the documentation.\n",
    "        if i ** 2  == n : # replace None by the appropriate code.\n",
    "            return (True, i)\n",
    "    return (False, n)\n",
    "    ### END CODE #####\n",
    "\n",
    "\n",
    "def getLowUpper(n: int):\n",
    "    \"\"\"\n",
    "        This function is the second helper. It takes an integer n and returns the lower and upper perfect square root to n.\n",
    "        We will use two \"while\" loops here, but we could have used \"for\" loops or whatever.\n",
    "        The first that will catch the first perfect square root is less than the square root of n.\n",
    "        The second one will catch the first square root greater than the square root of n.\n",
    "\n",
    "        INPUT: n as an integer.\n",
    "        OUTPUT: a tuple (minsqrt:int, maxsqrt:int)\n",
    "\n",
    "        Examples:\n",
    "        getLowUpper(3) = (1,2)\n",
    "        getLowUpper(15) = (3,4)\n",
    "    \"\"\"\n",
    "    i = 1\n",
    "    ### BEGIN CODE ####\n",
    "    low = isperfect(n-i)  \n",
    "    upper = isperfect(n+i)\n",
    "\n",
    "    while not low[0] : ## Hint: look at the second while loop.\n",
    "        i += 1\n",
    "        low = isperfect(n-i)\n",
    "\n",
    "    i = 1\n",
    "    while not upper[0] :\n",
    "        i += 1\n",
    "        upper = isperfect(n+i)\n",
    "\n",
    "    minsqrt, maxsqrt = low[1], upper[1] # Hint: remember what is the output of helper 1.\n",
    "    ### END CODE ####\n",
    "\n",
    "    return minsqrt, maxsqrt\n",
    "\n",
    "\n",
    "\n",
    "def mysqrt(n: int, error_threshold=0.000000001) -> float:\n",
    "    \"\"\"\n",
    "        This function is the main function. It takes an interger n and returns the square root of n.\n",
    "        We will use here the two helper functions we wrote previously.\n",
    "\n",
    "\n",
    "        INPUT: n as an integer.\n",
    "        OUTPUT: a float rst\n",
    "\n",
    "        Examples:\n",
    "        mysqrt(3) = 1.7320508076809347\n",
    "        mysqrt(15) = 3.8729833462275565\n",
    "    \"\"\"\n",
    "\n",
    "    ### BEGIN CODE ###\n",
    "    if n == 0 or n == 1 : ## Hint: remember to always start by basic case solution. for the square root problem, we have 0 and 1\n",
    "        return n\n",
    "    ### END CODE ###\n",
    "\n",
    "\n",
    "\n",
    "    ### BEGIN CODE ###\n",
    "    checkup = isperfect(n) # Hint: use the one of the helpers you already coded.\n",
    "    if checkup[0] : # How to access an element of the tuple?\n",
    "        return checkup[1] #Choose the right index...\n",
    "    ### END CODE ###\n",
    "\n",
    "    iteration = 0 # The variable is used to count the number of times we repeat the instructions in the while loop\n",
    "\n",
    "    ### BEGIN CODE ###\n",
    "    minsqrt, maxsqrt = getLowUpper(n) #Hint: use the second helper function.\n",
    "\n",
    "    rst =  (maxsqrt + minsqrt) / 2 \n",
    "\n",
    "    while maxsqrt - minsqrt >= error_threshold :\n",
    "\n",
    "            if rst ** 2 < n : # Hint: have a look at the first function.\n",
    "                    minsqrt = rst\n",
    "            else :\n",
    "                    maxsqrt = rst\n",
    "            rst = (maxsqrt + minsqrt) / 2\n",
    "            iteration +=1\n",
    "    ### END CODE ####\n",
    "\n",
    "    return rst"
   ]
  },
  {
   "cell_type": "code",
   "execution_count": 3,
   "id": "6d827905-52b6-4cab-b9f5-0deaa3b92f0d",
   "metadata": {},
   "outputs": [
    {
     "data": {
      "text/plain": [
       "316.22776601696387"
      ]
     },
     "execution_count": 3,
     "metadata": {},
     "output_type": "execute_result"
    }
   ],
   "source": [
    "mysqrt(100000)"
   ]
  },
  {
   "cell_type": "code",
   "execution_count": 69,
   "id": "0cfe7811-331c-430f-a37b-d5505aadf285",
   "metadata": {},
   "outputs": [
    {
     "data": {
      "text/plain": [
       "2"
      ]
     },
     "execution_count": 69,
     "metadata": {},
     "output_type": "execute_result"
    }
   ],
   "source": [
    "mysqrt(4)"
   ]
  },
  {
   "cell_type": "code",
   "execution_count": 70,
   "id": "926bb140-e430-465d-944d-c8eb52f3b4ac",
   "metadata": {},
   "outputs": [
    {
     "data": {
      "text/plain": [
       "7.937253932934254"
      ]
     },
     "execution_count": 70,
     "metadata": {},
     "output_type": "execute_result"
    }
   ],
   "source": [
    "mysqrt(63)"
   ]
  },
  {
   "cell_type": "code",
   "execution_count": 71,
   "id": "b675fcc0-4d71-4a55-bfc8-78f722fb27e7",
   "metadata": {},
   "outputs": [
    {
     "data": {
      "text/plain": [
       "8.062257748562843"
      ]
     },
     "execution_count": 71,
     "metadata": {},
     "output_type": "execute_result"
    }
   ],
   "source": [
    "mysqrt(65)"
   ]
  },
  {
   "cell_type": "code",
   "execution_count": null,
   "id": "a6e8e436-ce9d-4c01-89a8-02a02487db47",
   "metadata": {},
   "outputs": [],
   "source": []
  }
 ],
 "metadata": {
  "kernelspec": {
   "display_name": "Python 3 (ipykernel)",
   "language": "python",
   "name": "python3"
  },
  "language_info": {
   "codemirror_mode": {
    "name": "ipython",
    "version": 3
   },
   "file_extension": ".py",
   "mimetype": "text/x-python",
   "name": "python",
   "nbconvert_exporter": "python",
   "pygments_lexer": "ipython3",
   "version": "3.10.9"
  }
 },
 "nbformat": 4,
 "nbformat_minor": 5
}
