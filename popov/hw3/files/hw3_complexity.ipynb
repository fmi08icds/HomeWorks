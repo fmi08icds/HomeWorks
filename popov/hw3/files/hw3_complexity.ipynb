{
 "cells": [
  {
   "cell_type": "markdown",
   "id": "0ca7657e-d980-4499-8a1f-66236d54cb8f",
   "metadata": {},
   "source": [
    "# Time complexity analysis of square root function."
   ]
  },
  {
   "cell_type": "markdown",
   "id": "f3ec6f3f-46f0-44a6-894e-6334ef667c72",
   "metadata": {},
   "source": [
    "Comments next to the code denote the time complexity of the relevant operation. "
   ]
  },
  {
   "cell_type": "code",
   "execution_count": 1,
   "id": "a18735d9-36a8-49a4-a691-6e8791d7cd8f",
   "metadata": {},
   "outputs": [],
   "source": [
    "def isperfect(n: int ): \n",
    "    \"\"\"\n",
    "        This function is the first helper. It takes an integer n and checks if n has a perfect square root or not.\n",
    "        If n has a perfect square root, then it returns True and its perfect square root. If not, it returns False and n.\n",
    "\n",
    "        INPUT: n as an integer.\n",
    "        OUTPUT: a tuple (bool, int).\n",
    "\n",
    "        Examples:\n",
    "        isperfect(0) = (True, 0)\n",
    "        isperfect(1) = (True, 1)\n",
    "        isperfect(3) = (False, 3)\n",
    "        isperfect(16) = (True, 4)\n",
    "    \"\"\"\n",
    "    if n == 0 or n == 1: #O(1) + O(1) = O(1) - only one comparison each necessary in the worst case. \n",
    "        return (True, n)\n",
    "\n",
    "    for i in range(n) : #O(n) - worst case if n is not a perfect square, then i will iterate through the entire range(n)   \n",
    "        if i ** 2  == n :\n",
    "            return (True, i)\n",
    "    return (False, n)\n"
   ]
  },
  {
   "cell_type": "markdown",
   "id": "a4886945-5f81-49bf-929f-b7b21e69a261",
   "metadata": {
    "tags": []
   },
   "source": [
    "Total worst case time complexity for the function **isperfect()** is: $$O(1) + O(1) + O(n) = O(n)$$"
   ]
  },
  {
   "cell_type": "code",
   "execution_count": 2,
   "id": "7087548e-5895-4ba5-8578-081a2e5e97a7",
   "metadata": {
    "tags": []
   },
   "outputs": [],
   "source": [
    "def getLowUpper(n: int):\n",
    "    \"\"\"\n",
    "        This function is the second helper. It takes an integer n and returns the lower and upper perfect square root to n.\n",
    "        We will use two \"while\" loops here, but we could have used \"for\" loops or whatever.\n",
    "        The first that will catch the first perfect square root is less than the square root of n.\n",
    "        The second one will catch the first square root greater than the square root of n.\n",
    "\n",
    "        INPUT: n as an integer.\n",
    "        OUTPUT: a tuple (minsqrt:int, maxsqrt:int)\n",
    "\n",
    "        Examples:\n",
    "        getLowUpper(3) = (1,2)\n",
    "        getLowUpper(15) = (3,4)\n",
    "    \"\"\"\n",
    "    i = 1\n",
    "    low = isperfect(n-i)  #O(n) - As determined above\n",
    "    upper = isperfect(n+i) #O(n)\n",
    "\n",
    "    while not low[0] : #Complexity of while loop: O(n) \n",
    "        i += 1\n",
    "        low = isperfect(n-i) #Complexity of isperfect() helper: O(n) \n",
    "\n",
    "    i = 1\n",
    "    while not upper[0] : #Complexity of while loop: O(n)\n",
    "        i += 1\n",
    "        upper = isperfect(n+i) #Complexity of isperfect() helper O(n)\n",
    "\n",
    "    minsqrt, maxsqrt = low[1], upper[1] \n",
    "    \n",
    "    return minsqrt, maxsqrt"
   ]
  },
  {
   "cell_type": "markdown",
   "id": "3fbb6461-eebd-4576-a04e-744d6c5e9bf9",
   "metadata": {},
   "source": [
    "To determine the time complexity of the while loop, consider the following quadratic sequence of perfect squares:"
   ]
  },
  {
   "cell_type": "markdown",
   "id": "713da1ae-1a19-4d01-8853-d093d4fe2773",
   "metadata": {},
   "source": [
    "$$ 0,1,4,9,16,25, \\dots $$ \n",
    "whose sequence of **first common differences** is given by \n",
    "$$ 1, 3, 5, 7, 9, \\dots $$ \n",
    "for which the sequence of **second common differences** is given by \n",
    "$$ 2, 2, 2, 2, \\dots $$ \n",
    "\n",
    "Clearly the sequence of **first common differences** is an arithmetic sequence, which tells us for any $n \\in \\mathbb{N}$ how far away two perfect squares are from one another, given by the sequence formula: $T_n = 1 + (n-1)\\cdot 2$. Thus, the distance between 2 subsequent perfect squares yields the worst case complextiy for the lower and upper bound search of: $O(n)$.\n",
    "\n"
   ]
  },
  {
   "cell_type": "markdown",
   "id": "5c2cfee7-4c95-4a51-a674-3d878c442143",
   "metadata": {},
   "source": [
    "Calling the **isperfect()** function within the while loop yields a total time complexity of the **getLowUpper()** function: $$O(n^2)+O(n^2) = O(n^2)$$\n"
   ]
  },
  {
   "cell_type": "code",
   "execution_count": null,
   "id": "e4b783a9-8b76-46ff-97a1-0dcedf200dff",
   "metadata": {
    "tags": []
   },
   "outputs": [],
   "source": [
    "def mysqrt(n: int, error_threshold=0.000000001) -> float:\n",
    "    \"\"\"\n",
    "        This function is the main function. It takes an interger n and returns the square root of n.\n",
    "        We will use here the two helper functions we wrote previously.\n",
    "\n",
    "\n",
    "        INPUT: n as an integer.\n",
    "        OUTPUT: a float rst\n",
    "\n",
    "        Examples:\n",
    "        mysqrt(3) = 1.7320508076809347\n",
    "        mysqrt(15) = 3.8729833462275565\n",
    "    \"\"\"\n",
    "\n",
    "    if n == 0 or n == 1 : #Complexity O(1)\n",
    "        return n\n",
    "\n",
    "\n",
    "\n",
    "    checkup = isperfect(n) #Complexity O(n) \n",
    "    if checkup[0] : \n",
    "        return checkup[1] \n",
    "\n",
    "    iteration = 0 \n",
    "\n",
    "    minsqrt, maxsqrt = getLowUpper(n) #Complexity 2 * O(n^2) = O(n^2)  \n",
    "\n",
    "    rst =  (maxsqrt + minsqrt) / 2 \n",
    "\n",
    "    while maxsqrt - minsqrt >= error_threshold : #Complexity based on error_threshold -> constant w.r.t n \n",
    "\n",
    "            if rst ** 2 < n : #Complexity O(1) - only one comparison \n",
    "                    minsqrt = rst\n",
    "            else :\n",
    "                    maxsqrt = rst\n",
    "            rst = (maxsqrt + minsqrt) / 2\n",
    "            iteration +=1\n",
    "\n",
    "    return rst"
   ]
  },
  {
   "cell_type": "markdown",
   "id": "c212e35e-dc2f-423a-a254-6f22b0382963",
   "metadata": {},
   "source": [
    "The total complexity of the **mysqrt()** function in the *worst case* is thus: $O(n^2)$"
   ]
  },
  {
   "cell_type": "code",
   "execution_count": null,
   "id": "29265336-78af-44ab-a25f-2ac14a1e043b",
   "metadata": {},
   "outputs": [],
   "source": []
  }
 ],
 "metadata": {
  "kernelspec": {
   "display_name": "Python 3 (ipykernel)",
   "language": "python",
   "name": "python3"
  },
  "language_info": {
   "codemirror_mode": {
    "name": "ipython",
    "version": 3
   },
   "file_extension": ".py",
   "mimetype": "text/x-python",
   "name": "python",
   "nbconvert_exporter": "python",
   "pygments_lexer": "ipython3",
   "version": "3.10.6"
  }
 },
 "nbformat": 4,
 "nbformat_minor": 5
}
