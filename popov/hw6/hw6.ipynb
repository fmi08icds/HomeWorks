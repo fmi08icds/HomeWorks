{
 "cells": [
  {
   "cell_type": "markdown",
   "id": "6351f618-00cb-4b9c-bf52-2095d73cc041",
   "metadata": {},
   "source": [
    "# k-means clustering"
   ]
  },
  {
   "cell_type": "code",
   "execution_count": 279,
   "id": "794dab35-948a-40d3-aa06-7f623c7be94e",
   "metadata": {
    "tags": []
   },
   "outputs": [],
   "source": [
    "import scipy as sp\n",
    "import numpy as np \n",
    "import matplotlib\n",
    "\n",
    "# generate random data points in 2D \n",
    "rng = np.random.default_rng(seed = 1234)\n",
    "cl1 = rng.multivariate_normal([-2,-2], [[1,-0.5],[-0.5,1]], size = 100)\n",
    "cl2 = rng.multivariate_normal([1,0], [[1,0],[0,1]], size = 150)\n",
    "cl3 = rng.multivariate_normal([3,2], [[1,-0.7],[-0.7,1]], size = 200)\n",
    "pts = np.concatenate((cl1,cl2,cl3))\n"
   ]
  },
  {
   "cell_type": "code",
   "execution_count": 302,
   "id": "79890bf2-f65b-40f2-86fc-aad633d46b01",
   "metadata": {
    "tags": []
   },
   "outputs": [],
   "source": [
    "\"\"\" \n",
    "    function naive_kmeans_1: \n",
    "        input: \n",
    "                X - dataset of points in R^d\n",
    "                K - amount of clusters \n",
    "                iterations - number of iterations (default 100) \n",
    "        output: \n",
    "                clusters - the labels assigning each point to a cluster in (0,...,K)\n",
    "                centers- coordinates of K centers of the clusters \n",
    "\"\"\"\n",
    "\n",
    "\n",
    "def naive_kmeans(X, K, iterations = 100):\n",
    "    # step 1 - initialise \n",
    "    length = np.size(X,axis=0)\n",
    "    centers = X[np.random.choice(length, size = K, replace = False)]\n",
    "    \n",
    "    for _ in range(iterations):\n",
    "        \n",
    "        # step 2 - assignment step \n",
    "        normed_mat = np.empty((450,0))\n",
    "        \n",
    "        for center in centers: #loop over centers (shape = (K,2)\n",
    "            column = np.linalg.norm(X - center, axis = 1)\n",
    "            column = column[:,None] # vectorise the column\n",
    "            normed_mat = np.hstack((normed_mat,column)) # (450xK)-dimensional matrix containing the norms\n",
    "            \n",
    "        clusters = np.argmin(normed_mat, axis = 1) #1d array of positions\n",
    "        \n",
    "        # step 3 - update step \n",
    "        updated_centers = np.array([X[clusters == i].mean(axis=0) for i in range(K)]) \n",
    "        centers = updated_centers\n",
    "        \n",
    "    return clusters, centers                  "
   ]
  },
  {
   "cell_type": "code",
   "execution_count": 303,
   "id": "0e7aa712-6d22-41e4-9630-9c7434450ed7",
   "metadata": {
    "tags": []
   },
   "outputs": [],
   "source": [
    "x, y = naive_kmeans(pts, 3)"
   ]
  }
 ],
 "metadata": {
  "kernelspec": {
   "display_name": "Python 3 (ipykernel)",
   "language": "python",
   "name": "python3"
  },
  "language_info": {
   "codemirror_mode": {
    "name": "ipython",
    "version": 3
   },
   "file_extension": ".py",
   "mimetype": "text/x-python",
   "name": "python",
   "nbconvert_exporter": "python",
   "pygments_lexer": "ipython3",
   "version": "3.10.6"
  }
 },
 "nbformat": 4,
 "nbformat_minor": 5
}
