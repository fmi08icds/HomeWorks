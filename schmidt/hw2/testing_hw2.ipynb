{
 "cells": [
  {
   "cell_type": "code",
   "execution_count": 1,
   "id": "9113ce8d",
   "metadata": {},
   "outputs": [],
   "source": [
    "from numpy import random, sqrt, round"
   ]
  },
  {
   "cell_type": "markdown",
   "id": "fce8fa35",
   "metadata": {},
   "source": [
    "# isperfect Function"
   ]
  },
  {
   "cell_type": "markdown",
   "id": "27dd8952",
   "metadata": {},
   "source": [
    "Apply the following steps to make the function work\n",
    "- Use `range(n-1)` to loop over all numbers from 0 until n-2; \n",
    "  This saves one iteration without missing a perfect square root.\n",
    "  As 0 and 1 are handled separately, the smallest perfect square root is   4 with 2 being its root\n",
    "- Replace next None by `i**2 == n` to check if i is the square root of n. If so, return True and i as n is a perfect square root\n",
    "- If no integer i was found which is the square root of n (the loop finishes), return False and n as n is not a perfect square root"
   ]
  },
  {
   "cell_type": "code",
   "execution_count": 2,
   "id": "a766a0eb",
   "metadata": {},
   "outputs": [],
   "source": [
    "def isperfect(n: int ):\n",
    "    \"\"\"\n",
    "        This function is the first helper. It takes an integer n and checks if n has a perfect square root or not.\n",
    "        If n has a perfect square root, then it returns True and its perfect square root. If not, it returns False and n.\n",
    "\n",
    "        INPUT: n as an integer.\n",
    "        OUTPUT: a tuple (bool, int).\n",
    "\n",
    "        Examples:\n",
    "        isperfect(0) = (True, 0)\n",
    "        isperfect(1) = (True, 1)\n",
    "        isperfect(3) = (False, 3)\n",
    "        isperfect(16) = (True, 4)\n",
    "    \"\"\"\n",
    "    if n == 0 or n == 1:\n",
    "        return (True, n)\n",
    "\n",
    "    ### BEGIN CODE #####\n",
    "    for i in range(n-1): # Hint: you can use the range, or any sequence type. if you don't remember how it works, have a look at the documentation.\n",
    "        if i**2 == n: # replace None by the appropriate code.\n",
    "            return True, i\n",
    "    return False, n\n",
    "    ### END CODE #####"
   ]
  },
  {
   "cell_type": "markdown",
   "id": "3828ecd5",
   "metadata": {},
   "source": [
    "Confirm that the function works as intended"
   ]
  },
  {
   "cell_type": "code",
   "execution_count": 3,
   "id": "7e331460",
   "metadata": {},
   "outputs": [
    {
     "name": "stdout",
     "output_type": "stream",
     "text": [
      "(True, 0)\n",
      "(True, 1)\n",
      "(False, 3)\n",
      "(True, 4)\n"
     ]
    }
   ],
   "source": [
    "print(isperfect(0))\n",
    "print(isperfect(1))\n",
    "print(isperfect(3))\n",
    "print(isperfect(16))"
   ]
  },
  {
   "cell_type": "markdown",
   "id": "224ce909",
   "metadata": {},
   "source": [
    "# getLowUpper function"
   ]
  },
  {
   "cell_type": "markdown",
   "id": "24755cb3",
   "metadata": {},
   "source": [
    "Apply the following steps to make the function work\n",
    "- Assign `low = isperfect(n-i)` as special cases (0 and 1 as well as perfect square roots) are handled in the mysqrt function; Initializing low is also necessary to correctly work with the while loop\n",
    "- Assign `upper = isperfect(n+i)` for the same reasons as for low\n",
    "- Change the first loop to end once we found the first integer root for a number smaller than n: `while not low[0]` (Because the first element of the tuple will be True then)\n",
    "- In the loop update i to `i+1` to try the next smaller integer (it is subtracted from n); Then check if the new integer is a perfect square root with `low = isperfect(n-i)` \n",
    "- Reset i: `i = 1` \n",
    "- The approach is similar for finding the upper limit:\n",
    "  `while not upper[0]`, `i += 1`, and `upper = isperfect(n+i)`\n",
    "  \n",
    "- Finally, store the identified roots for `low` and `upper` in `minsqrt` and `maxsqrt` by accessing the second element of the respective tuple returned by isperfect (which is the root of an adjacent perfect square root to n)\n"
   ]
  },
  {
   "cell_type": "code",
   "execution_count": 4,
   "id": "700f62ec",
   "metadata": {},
   "outputs": [],
   "source": [
    "def getLowUpper(n: int):\n",
    "    \"\"\"\n",
    "        This function is the second helper. It takes an integer n and returns the lower and upper perfect square root to n.\n",
    "        We will use two \"while\" loops here, but we could have used \"for\" loops or whatever.\n",
    "        The first that will catch the first perfect square root is less than the square root of n.\n",
    "        The second one will catch the first square root greater than the square root of n.\n",
    "\n",
    "        INPUT: n as an integer.\n",
    "        OUTPUT: a tuple (minsqrt:int, maxsqrt:int)\n",
    "\n",
    "        Examples:\n",
    "        getLowUpper(3) = (1,2)\n",
    "        getLowUpper(15) = (3,4)\n",
    "    \"\"\"\n",
    "    i = 1\n",
    "    ### BEGIN CODE ####\n",
    "    low = isperfect(n-i)\n",
    "    upper = isperfect(n+i)\n",
    "\n",
    "    while not low[0]: ## Hint: look at the second while loop.\n",
    "        i = i+1\n",
    "        low = isperfect(n-i)\n",
    "\n",
    "    i = 1\n",
    "    while not upper[0]:\n",
    "        i += 1\n",
    "        upper = isperfect(n+i)\n",
    "\n",
    "    minsqrt, maxsqrt = low[1], upper[1] # Hint: remember what is the output of helper 1.\n",
    "    ### END CODE ####\n",
    "\n",
    "    return minsqrt, maxsqrt"
   ]
  },
  {
   "cell_type": "markdown",
   "id": "0d9cc16a",
   "metadata": {},
   "source": [
    "Confirm that the function works as intended (Note that it returns larger than necessary boundaries for perfect square roots like 16. This is handled in mysqrt)"
   ]
  },
  {
   "cell_type": "code",
   "execution_count": 5,
   "id": "1efa31d8",
   "metadata": {},
   "outputs": [
    {
     "name": "stdout",
     "output_type": "stream",
     "text": [
      "(1, 2)\n",
      "(1, 2)\n",
      "(3, 4)\n",
      "(3, 5)\n"
     ]
    }
   ],
   "source": [
    "print(getLowUpper(2))\n",
    "print(getLowUpper(3))\n",
    "print(getLowUpper(15))\n",
    "print(getLowUpper(16))"
   ]
  },
  {
   "cell_type": "markdown",
   "id": "737f4085",
   "metadata": {},
   "source": [
    "# mysqrt function"
   ]
  },
  {
   "cell_type": "markdown",
   "id": "f5376c5a",
   "metadata": {},
   "source": [
    "Apply the following steps:\n",
    "- Special case 1: Check if n is 0 or 1, then it is its own root: `if n == 0 or n == 1`\n",
    "- Special case 2: Check if n is a perfect square root using `checkup = isperfect(n)`; If so (`checkup[0] == True`), return the root (`checkup[1]`)\n",
    "- If no special case applies, get the initial values for low and upper using `minsqrt, maxsqrt = getLowUpper(n)`\n",
    "- Calculate the first estimate as the mean of minsqrt and maxsqrt: `rst = (minsqrt + maxsqrt) / 2`\n",
    "- Loop as long as the difference between the numpy solution and the estimate is not below the threshold: `while abs(sqrt(n)-rst) >= error_threshold:`\n",
    "- In the loop, update `minsqrt` using `rst` if `rst` squared is larger than n; Otherwise, update `maxsqrt`; This narrows down the estimate with each iteration\n",
    "- Also in the loop, update `rst` based on the new values for `minsqrt` and `maxsqrt`: `rst = (minsqrt + maxsqrt) / 2`"
   ]
  },
  {
   "cell_type": "code",
   "execution_count": 6,
   "id": "e7dba41d",
   "metadata": {},
   "outputs": [],
   "source": [
    "def mysqrt(n: int, error_threshold=0.000000001) -> float:\n",
    "    \"\"\"\n",
    "        This function is the main function. It takes an integer n and returns the square root of n.\n",
    "        We will use here the two helper functions we wrote previously.\n",
    "\n",
    "\n",
    "        INPUT: n as an integer.\n",
    "        OUTPUT: a float rst\n",
    "\n",
    "        Examples:\n",
    "        mysqrt(3) = 1.7320508076809347\n",
    "        mysqrt(15) = 3.8729833462275565\n",
    "    \"\"\"\n",
    "\n",
    "    ### BEGIN CODE ###\n",
    "    if n == 0 or n == 1: ## Hint: remember to always start by basic case solution. for the square root problem, we have 0 and 1\n",
    "        return n\n",
    "    ### END CODE ###\n",
    "\n",
    "\n",
    "\n",
    "    ### BEGIN CODE ###\n",
    "    checkup = isperfect(n) # Hint: use the one of the helpers you already coded.\n",
    "    if checkup[0] : # How to access an element of the tuple?\n",
    "        return checkup[1] #Choose the right index...\n",
    "    ### END CODE ###\n",
    "\n",
    "    iteration = 0 # The variable is used to count the number of times we repeat the instructions in the while loop\n",
    "\n",
    "    ### BEGING CODE ###\n",
    "    minsqrt, maxsqrt = getLowUpper(n) #Hint: use the second helper function.\n",
    "\n",
    "    rst =  (minsqrt + maxsqrt) / 2\n",
    "\n",
    "    while abs(sqrt(n)-rst) >= error_threshold:\n",
    "            if rst**2 < n : # Hint: have a look at the first function.\n",
    "                    minsqrt = rst\n",
    "            else :\n",
    "                    maxsqrt = rst\n",
    "            rst = (minsqrt + maxsqrt) / 2\n",
    "            iteration +=1\n",
    "    ### END CODE ####\n",
    "\n",
    "    return rst"
   ]
  },
  {
   "cell_type": "markdown",
   "id": "09164670",
   "metadata": {},
   "source": [
    "Confirm that the function works as intended"
   ]
  },
  {
   "cell_type": "code",
   "execution_count": 7,
   "id": "cf40558f",
   "metadata": {},
   "outputs": [
    {
     "name": "stdout",
     "output_type": "stream",
     "text": [
      "1.732050808146596\n",
      "3.872983345761895\n"
     ]
    }
   ],
   "source": [
    "print(mysqrt(3))\n",
    "print(mysqrt(15))"
   ]
  },
  {
   "cell_type": "code",
   "execution_count": null,
   "id": "0ab9b9b9",
   "metadata": {},
   "outputs": [],
   "source": []
  }
 ],
 "metadata": {
  "kernelspec": {
   "display_name": "icds",
   "language": "python",
   "name": "icds"
  },
  "language_info": {
   "codemirror_mode": {
    "name": "ipython",
    "version": 3
   },
   "file_extension": ".py",
   "mimetype": "text/x-python",
   "name": "python",
   "nbconvert_exporter": "python",
   "pygments_lexer": "ipython3",
   "version": "3.10.10"
  }
 },
 "nbformat": 4,
 "nbformat_minor": 5
}
