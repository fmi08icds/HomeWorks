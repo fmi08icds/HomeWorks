{
 "cells": [
  {
   "cell_type": "markdown",
   "id": "4bc7527b",
   "metadata": {},
   "source": [
    "# Evaluation\n",
    "In this notebook, a list of numbers is defined to compare different implementations of the mysqrt function using cProfile.\n",
    "Therefore, each implementation can be loaded from the `./versions` directory and be assessed using the `get_stats()` function"
   ]
  },
  {
   "cell_type": "markdown",
   "id": "a9f29e41",
   "metadata": {},
   "source": [
    "## Preparation"
   ]
  },
  {
   "cell_type": "code",
   "execution_count": 1,
   "id": "3557f7c9",
   "metadata": {},
   "outputs": [],
   "source": [
    "import cProfile as cp\n",
    "import pstats\n",
    "from pstats import SortKey\n",
    "from typing import Sequence, Dict"
   ]
  },
  {
   "cell_type": "code",
   "execution_count": 2,
   "id": "9e178b10",
   "metadata": {},
   "outputs": [],
   "source": [
    "def clean_stats(stats: pstats.Stats):\n",
    "    '''\n",
    "    Reduces an instance pstats.Stats to only function name and values for \"ncalls\", \"cumtime\", \"percall\", and \"tottime\".\n",
    "    ncalls:   How often a function was called\n",
    "    cumtime:  How much time was spent in the function (including calls by this function)\n",
    "    percall:  How much time was spent per call (without subcalls)\n",
    "    tottime:  How much time was spent in the function (without subcalls)\n",
    "    '''\n",
    "    cleaned = {}\n",
    "    profiles = stats.get_stats_profile().func_profiles\n",
    "    for func_name, func_profile in profiles.items():\n",
    "        cleaned[func_name] = {'ncalls': func_profile.ncalls,\n",
    "                              'cumtime': func_profile.cumtime,\n",
    "                              'percall': func_profile.percall_tottime, \n",
    "                              'tottime': func_profile.tottime}\n",
    "    return cleaned\n",
    "\n",
    "def get_stats(module_name: str, num: int):\n",
    "    '''\n",
    "    Function that profiles the mysqrt function of a provided module following the following documentation\n",
    "    https://docs.python.org/3/library/profile.html\n",
    "    \n",
    "    :param module_name:  Name of the module to be evaluated (Use the import name)\n",
    "    :param num:          Number to evaluate the model on\n",
    "    '''\n",
    "    \n",
    "    with cp.Profile() as profile:\n",
    "        eval(module_name).mysqrt(num)\n",
    "        profile.dump_stats(module_name)\n",
    "        p = pstats.Stats(module_name)\n",
    "        p.strip_dirs().sort_stats(SortKey.CUMULATIVE)\n",
    "    return clean_stats(p)"
   ]
  },
  {
   "cell_type": "code",
   "execution_count": 3,
   "id": "38ef16ff",
   "metadata": {},
   "outputs": [],
   "source": [
    "def evaluate_module(module_name: str, numbers: Sequence[int]):\n",
    "    '''\n",
    "    Evaluate one module over all numbers \n",
    "    '''\n",
    "    return [get_stats(module_name, num) for num in numbers]\n",
    "\n",
    "def extract_summary(results: Sequence[Dict], func_name: str, attribute='tottime'):\n",
    "    '''\n",
    "    For each result in the results list, get the requested attribute for the requested function (fnc_name)\n",
    "    '''\n",
    "    return [result[func_name][attribute] for result in results]"
   ]
  },
  {
   "cell_type": "markdown",
   "id": "67f41d0b",
   "metadata": {},
   "source": [
    "## Comparison\n",
    "Each module is loaded and compared on the same numbers:\n",
    "- v1: As submitted for hw2\n",
    "- v2: Vectorized `getLowUpper`\n",
    "- v3: Vectorized `isperfect`\n",
    "- v4: Vectorized `isperfect` and only one call of `np.sqrt` in `mysqrt()`"
   ]
  },
  {
   "cell_type": "code",
   "execution_count": 4,
   "id": "b8b9e163",
   "metadata": {},
   "outputs": [],
   "source": [
    "import versions.schmidt_hw2 as v1\n",
    "import versions.schmidt_hw2_v2 as v2\n",
    "import versions.schmidt_hw2_v3 as v3\n",
    "import versions.schmidt_hw2_v4 as v4\n",
    "\n",
    "numbers = [1234, 12345, 123456, 1234567]"
   ]
  },
  {
   "cell_type": "code",
   "execution_count": 5,
   "id": "919bf487",
   "metadata": {},
   "outputs": [],
   "source": [
    "results1 = evaluate_module(\"v1\", numbers)"
   ]
  },
  {
   "cell_type": "code",
   "execution_count": 6,
   "id": "389e41a3",
   "metadata": {},
   "outputs": [],
   "source": [
    "results2 = evaluate_module(\"v2\", numbers)"
   ]
  },
  {
   "cell_type": "code",
   "execution_count": 7,
   "id": "dbfc6c3b",
   "metadata": {},
   "outputs": [],
   "source": [
    "results3 = evaluate_module(\"v3\", numbers)"
   ]
  },
  {
   "cell_type": "code",
   "execution_count": 8,
   "id": "cc902dd7",
   "metadata": {},
   "outputs": [],
   "source": [
    "results4 = evaluate_module(\"v4\", numbers)"
   ]
  },
  {
   "cell_type": "markdown",
   "id": "5bf618bd",
   "metadata": {},
   "source": [
    "Comparing results"
   ]
  },
  {
   "cell_type": "code",
   "execution_count": 9,
   "id": "b2add7ac",
   "metadata": {},
   "outputs": [],
   "source": [
    "cumtime1 = extract_summary(results1, 'mysqrt', 'cumtime')\n",
    "cumtime2 = extract_summary(results2, 'mysqrt', 'cumtime')\n",
    "cumtime3 = extract_summary(results3, 'mysqrt', 'cumtime')\n",
    "cumtime4 = extract_summary(results4, 'mysqrt', 'cumtime')"
   ]
  },
  {
   "cell_type": "code",
   "execution_count": 10,
   "id": "ed8b95ca",
   "metadata": {},
   "outputs": [
    {
     "name": "stdout",
     "output_type": "stream",
     "text": [
      "[0.018, 0.48, 15.146, 494.165]\n",
      "[0.027, 0.59, 16.939, 519.856]\n",
      "[0.003, 0.006, 0.273, 7.818]\n",
      "[0.002, 0.005, 0.069, 7.034]\n"
     ]
    }
   ],
   "source": [
    "print(cumtime1)\n",
    "print(cumtime2)\n",
    "print(cumtime3)\n",
    "print(cumtime4)"
   ]
  },
  {
   "cell_type": "markdown",
   "id": "c09f8a2c",
   "metadata": {},
   "source": [
    "As we can see, v2 (vectorizing `getLowUpper`) has the worst performance for all numbers while the vectorization of `isperfect` has the strongest positive effect.\n",
    "Calculating `sqrt(n)` only once at not for every loop (v4), on top of the `isperfect` vectorization, leads to the best result."
   ]
  },
  {
   "cell_type": "code",
   "execution_count": 14,
   "id": "2fe3ee77",
   "metadata": {},
   "outputs": [],
   "source": [
    "import numpy as np\n",
    "\n",
    "benchmark = np.array(cumtime1)\n",
    "relative2 = np.array(cumtime2) / benchmark\n",
    "relative3 = np.array(cumtime3) / benchmark\n",
    "relative4 = np.array(cumtime4) / benchmark"
   ]
  },
  {
   "cell_type": "code",
   "execution_count": 15,
   "id": "6e89deff",
   "metadata": {},
   "outputs": [
    {
     "name": "stdout",
     "output_type": "stream",
     "text": [
      "[1.5        1.22916667 1.11838109 1.05198871]\n",
      "[0.16666667 0.0125     0.01802456 0.01582063]\n",
      "[0.11111111 0.01041667 0.00455566 0.01423411]\n"
     ]
    }
   ],
   "source": [
    "print(relative2)\n",
    "print(relative3)\n",
    "print(relative4)"
   ]
  },
  {
   "cell_type": "markdown",
   "id": "519b1f5c",
   "metadata": {},
   "source": [
    "The values in the numpy arrays show the relative time for all adaptions"
   ]
  }
 ],
 "metadata": {
  "kernelspec": {
   "display_name": "icds",
   "language": "python",
   "name": "icds"
  },
  "language_info": {
   "codemirror_mode": {
    "name": "ipython",
    "version": 3
   },
   "file_extension": ".py",
   "mimetype": "text/x-python",
   "name": "python",
   "nbconvert_exporter": "python",
   "pygments_lexer": "ipython3",
   "version": "3.10.10"
  }
 },
 "nbformat": 4,
 "nbformat_minor": 5
}
