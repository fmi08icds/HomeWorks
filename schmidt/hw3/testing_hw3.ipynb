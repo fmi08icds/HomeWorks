{
 "cells": [
  {
   "cell_type": "markdown",
   "id": "1d0d6942",
   "metadata": {},
   "source": [
    "# Testing"
   ]
  },
  {
   "cell_type": "markdown",
   "id": "0344a77b",
   "metadata": {},
   "source": [
    "## Preparation"
   ]
  },
  {
   "cell_type": "code",
   "execution_count": 2,
   "id": "0c0f5a23",
   "metadata": {},
   "outputs": [],
   "source": [
    "import cProfile as cp\n",
    "import pstats\n",
    "from pstats import SortKey\n",
    "from typing import Sequence, Dict"
   ]
  },
  {
   "cell_type": "code",
   "execution_count": 3,
   "id": "ed48f9b2",
   "metadata": {},
   "outputs": [],
   "source": [
    "def clean_stats(stats: pstats.Stats):\n",
    "    '''\n",
    "    Reduces an instance pstats.Stats to only function name and values for \"ncalls\", \"cumtime\", \"percall\", and \"tottime\".\n",
    "    ncalls:   How often a function was called\n",
    "    cumtime:  How much time was spent in the function (including calls by this function)\n",
    "    percall:  How much time was spent per call (without subcalls)\n",
    "    tottime:  How much time was spent in the function (without subcalls)\n",
    "    '''\n",
    "    cleaned = {}\n",
    "    profiles = stats.get_stats_profile().func_profiles\n",
    "    for func_name, func_profile in profiles.items():\n",
    "        cleaned[func_name] = {'ncalls': func_profile.ncalls,\n",
    "                              'cumtime': func_profile.cumtime,\n",
    "                              'percall': func_profile.percall_tottime, \n",
    "                              'tottime': func_profile.tottime}\n",
    "    return cleaned\n",
    "\n",
    "def get_stats(module_name: str, num: int):\n",
    "    '''\n",
    "    Function that profiles the mysqrt function of a provided module following the following documentation\n",
    "    https://docs.python.org/3/library/profile.html\n",
    "    \n",
    "    :param module_name:  Name of the module to be evaluated (Use the import name)\n",
    "    :param num:          Number to evaluate the model on\n",
    "    '''\n",
    "    \n",
    "    with cp.Profile() as profile:\n",
    "        eval(module_name).mysqrt(num)\n",
    "        profile.dump_stats(module_name)\n",
    "        p = pstats.Stats(module_name)\n",
    "        p.strip_dirs().sort_stats(SortKey.CUMULATIVE)\n",
    "    return clean_stats(p)"
   ]
  },
  {
   "cell_type": "code",
   "execution_count": 4,
   "id": "c8130770",
   "metadata": {},
   "outputs": [],
   "source": [
    "def evaluate_module(module_name: str, numbers: Sequence[int]):\n",
    "    '''\n",
    "    Evaluate one module over all numbers \n",
    "    '''\n",
    "    return [get_stats(module_name, num) for num in numbers]\n",
    "\n",
    "def extract_summary(results: Sequence[Dict], func_name: str, attribute='tottime'):\n",
    "    '''\n",
    "    For each result in the results list, get the requested attribute for the requested function (fnc_name)\n",
    "    '''\n",
    "    return [result[func_name][attribute] for result in results]"
   ]
  },
  {
   "cell_type": "markdown",
   "id": "12b28461",
   "metadata": {},
   "source": [
    "## Implementation 1"
   ]
  },
  {
   "cell_type": "code",
   "execution_count": 5,
   "id": "4d7afee0",
   "metadata": {
    "scrolled": true
   },
   "outputs": [],
   "source": [
    "import versions.schmidt_hw2 as v1\n",
    "\n",
    "numbers = [1234, 12345]\n",
    "results = evaluate_module(\"v1\", numbers)"
   ]
  },
  {
   "cell_type": "code",
   "execution_count": 6,
   "id": "a0016f1c",
   "metadata": {},
   "outputs": [
    {
     "name": "stdout",
     "output_type": "stream",
     "text": [
      "mysqrt: [0.015, 0.472]\n",
      "lowupper: [0.015, 0.47]\n",
      "isperfect: [0.015, 0.471]\n"
     ]
    }
   ],
   "source": [
    "mysqrt = extract_summary(results, 'mysqrt', attribute='cumtime')\n",
    "lowupper = extract_summary(results, 'getLowUpper', attribute='cumtime')\n",
    "isperfect = extract_summary(results, 'isperfect', attribute='cumtime')\n",
    "\n",
    "print(f'mysqrt: {mysqrt}')\n",
    "print(f'lowupper: {lowupper}')\n",
    "print(f'isperfect: {isperfect}')"
   ]
  },
  {
   "cell_type": "markdown",
   "id": "79e7c6ea",
   "metadata": {},
   "source": [
    "As seen by the values for cumulative time, the most time is spent in `isperfect`. We can also see that it is called a low by `getLowUpper`:"
   ]
  },
  {
   "cell_type": "code",
   "execution_count": 7,
   "id": "4c58a6e6",
   "metadata": {},
   "outputs": [
    {
     "name": "stdout",
     "output_type": "stream",
     "text": [
      "['72', '224']\n"
     ]
    }
   ],
   "source": [
    "print(extract_summary(results, 'isperfect', attribute='ncalls'))"
   ]
  },
  {
   "cell_type": "markdown",
   "id": "64401ae6",
   "metadata": {},
   "source": [
    "In order to address this, the looping in getLowUpper will be replaced using vectorization"
   ]
  },
  {
   "cell_type": "markdown",
   "id": "dff8036a",
   "metadata": {},
   "source": [
    "## Adaption 1: Vectorize getLowUpper"
   ]
  },
  {
   "cell_type": "code",
   "execution_count": 8,
   "id": "32e272d0",
   "metadata": {},
   "outputs": [],
   "source": [
    "import numpy as np"
   ]
  },
  {
   "cell_type": "markdown",
   "id": "75c4b85b",
   "metadata": {},
   "source": [
    "In order to vectorize this process we need to create an array. To not create an unnecessary large array, we need to find the maximum distance from an integer to the next perfect square. This can be found as follows:\n",
    "\n",
    "1. Let `x` be an integer, then its square is given by `x^2`\n",
    "2. The distance to the adjacent squared integers is given by `x^2 - (x-1)^2 = 2x - 1` and `(x+1)^2 - x^2 = 2x + 1` respectively \n",
    "3. Now let `n = x^2`. Then, the distances to the next perfect square from `n` relative to the value of `n` become `2/sqrt(n) - 1/z` and `2/sqrt(n) + 1/z`\n",
    "4. As the value for `n` increases, the relative distance to the next perfect square decreases.\n",
    "\n",
    "**This allows us to find the size of the arrays in which to look for adjacent perfect squares:**\n",
    "\n",
    "1. As the relative distances decrease, a fixed percentage that works for `n` will also work for all integers larger than `n`\n",
    "2. As the absolute distances increase, a fixed absolute value that works for `n` will also work for all integers smaller than `n`.\n",
    "\n",
    "Below, I will start with `n=2500`, for which the relative distance is `4.1%` and the absolute distance is `101`. "
   ]
  },
  {
   "cell_type": "code",
   "execution_count": 9,
   "id": "fc66d42c",
   "metadata": {},
   "outputs": [],
   "source": [
    "def create_ranges(n: int):\n",
    "    distance = max(101, int(n*0.041))\n",
    "    low_end = n - distance\n",
    "    high_end = n + distance\n",
    "                   \n",
    "    return np.arange(low_end, n, 1), np.arange(n, high_end + 1, 1)"
   ]
  },
  {
   "cell_type": "code",
   "execution_count": 10,
   "id": "90edaa33",
   "metadata": {},
   "outputs": [],
   "source": [
    "n = 42\n",
    "lower_arr, upper_arr = create_ranges(n)"
   ]
  },
  {
   "cell_type": "markdown",
   "id": "66f3ee7f",
   "metadata": {},
   "source": [
    "The next step is to apply `isperfect` to both arrays and return the two closest perfect squares to the integer `n` for which to estimate the square root.\n",
    "This can be achieved by filtering both arrays for `True` values and returning the largest value in the first array and the smallest value in the second array. \n",
    "\n",
    "The following implementation using the boolean array returned by the vectorization as a mask on the second array\n",
    "See also: https://stackoverflow.com/questions/19984102/select-elements-of-numpy-array-via-boolean-mask-array"
   ]
  },
  {
   "cell_type": "code",
   "execution_count": 11,
   "id": "1aaa327a",
   "metadata": {
    "scrolled": true
   },
   "outputs": [],
   "source": [
    "def reduce_array(arr: np.array):\n",
    "    '''\n",
    "    Receives an array of integer candidates and return only the elements for which \"isperfect\" returns true\n",
    "    '''\n",
    "    mask_arr, int_arr = np.vectorize(v1.isperfect)(arr)\n",
    "    return int_arr[mask_arr]"
   ]
  },
  {
   "cell_type": "code",
   "execution_count": 12,
   "id": "94efc348",
   "metadata": {},
   "outputs": [
    {
     "name": "stdout",
     "output_type": "stream",
     "text": [
      "[0 1 2 3 4 5 6]\n",
      "[ 7  8  9 10 11]\n",
      "6\n",
      "7\n"
     ]
    }
   ],
   "source": [
    "print(reduce_array(lower_arr))\n",
    "print(reduce_array(upper_arr))\n",
    "\n",
    "print(np.max(reduce_array(lower_arr)))\n",
    "print(np.min(reduce_array(upper_arr)))"
   ]
  },
  {
   "cell_type": "markdown",
   "id": "b13bb3d4",
   "metadata": {},
   "source": [
    "Now, combine these function into a new `getLowUpper` helper:"
   ]
  },
  {
   "cell_type": "code",
   "execution_count": 13,
   "id": "c9a16053",
   "metadata": {},
   "outputs": [],
   "source": [
    "def getLowUpper_v2(n: int):\n",
    "    \"\"\"\n",
    "        This function is the second helper. It takes an integer n and returns the lower and upper perfect square root to n.\n",
    "        We will use two \"while\" loops here, but we could have used \"for\" loops or whatever.\n",
    "        The first that will catch the first perfect square root is less than the square root of n.\n",
    "        The second one will catch the first square root greater than the square root of n.\n",
    "\n",
    "        INPUT: n as an integer.\n",
    "        OUTPUT: a tuple (minsqrt:int, maxsqrt:int)\n",
    "\n",
    "        Examples:\n",
    "        getLowUpper(3) = (1,2)\n",
    "        getLowUpper(15) = (3,4)\n",
    "    \"\"\"\n",
    "    lower_arr, upper_arr = create_ranges(n)\n",
    "    minsqrt = np.max(reduce_array(lower_arr))\n",
    "    maxsqrt = np.min(reduce_array(upper_arr))\n",
    "\n",
    "    return minsqrt, maxsqrt"
   ]
  },
  {
   "cell_type": "markdown",
   "id": "07c58c42",
   "metadata": {},
   "source": [
    "### Compare v1 and v2"
   ]
  },
  {
   "cell_type": "markdown",
   "id": "bc97207d",
   "metadata": {},
   "source": [
    "Unfortunately, this implementation is not faster despite vectorization:"
   ]
  },
  {
   "cell_type": "code",
   "execution_count": 14,
   "id": "3bf1f4b6",
   "metadata": {},
   "outputs": [
    {
     "name": "stdout",
     "output_type": "stream",
     "text": [
      "         227 function calls in 0.481 seconds\n",
      "\n",
      "   Ordered by: standard name\n",
      "\n",
      "   ncalls  tottime  percall  cumtime  percall filename:lineno(function)\n",
      "        1    0.000    0.000    0.481    0.481 <string>:1(<module>)\n",
      "        1    0.000    0.000    0.481    0.481 schmidt_hw2.py:31(getLowUpper)\n",
      "      223    0.480    0.002    0.480    0.002 schmidt_hw2.py:6(isperfect)\n",
      "        1    0.000    0.000    0.481    0.481 {built-in method builtins.exec}\n",
      "        1    0.000    0.000    0.000    0.000 {method 'disable' of '_lsprof.Profiler' objects}\n",
      "\n",
      "\n"
     ]
    }
   ],
   "source": [
    "cp.run(\"v1.getLowUpper(12345)\")"
   ]
  },
  {
   "cell_type": "code",
   "execution_count": 15,
   "id": "6eb9599e",
   "metadata": {},
   "outputs": [
    {
     "name": "stdout",
     "output_type": "stream",
     "text": [
      "         1093 function calls in 2.184 seconds\n",
      "\n",
      "   Ordered by: standard name\n",
      "\n",
      "   ncalls  tottime  percall  cumtime  percall filename:lineno(function)\n",
      "        1    0.000    0.000    0.000    0.000 3018333493.py:1(create_ranges)\n",
      "        1    0.000    0.000    2.184    2.184 3250889149.py:1(getLowUpper_v2)\n",
      "        2    0.000    0.000    2.184    1.092 71781565.py:1(reduce_array)\n",
      "        1    0.000    0.000    0.000    0.000 <__array_function__ internals>:177(amax)\n",
      "        1    0.000    0.000    0.000    0.000 <__array_function__ internals>:177(amin)\n",
      "        1    0.000    0.000    2.184    2.184 <string>:1(<module>)\n",
      "        1    0.000    0.000    0.000    0.000 fromnumeric.py:2672(_amax_dispatcher)\n",
      "        1    0.000    0.000    0.000    0.000 fromnumeric.py:2677(amax)\n",
      "        1    0.000    0.000    0.000    0.000 fromnumeric.py:2797(_amin_dispatcher)\n",
      "        1    0.000    0.000    0.000    0.000 fromnumeric.py:2802(amin)\n",
      "        2    0.000    0.000    0.000    0.000 fromnumeric.py:69(_wrapreduction)\n",
      "        2    0.000    0.000    0.000    0.000 fromnumeric.py:70(<dictcomp>)\n",
      "        2    0.000    0.000    0.000    0.000 function_base.py:2268(__init__)\n",
      "        2    0.000    0.000    2.184    1.092 function_base.py:2300(__call__)\n",
      "        2    0.000    0.000    0.005    0.002 function_base.py:2330(_get_ufunc_and_otypes)\n",
      "        2    0.000    0.000    0.000    0.000 function_base.py:2360(<listcomp>)\n",
      "        4    0.000    0.000    0.000    0.000 function_base.py:2361(<genexpr>)\n",
      "        2    0.000    0.000    0.000    0.000 function_base.py:2365(<listcomp>)\n",
      "        2    0.000    0.000    0.000    0.000 function_base.py:2389(<listcomp>)\n",
      "        2    0.002    0.001    2.183    1.092 function_base.py:2399(_vectorize_call)\n",
      "        2    0.000    0.000    0.000    0.000 function_base.py:2409(<listcomp>)\n",
      "        2    0.000    0.000    0.000    0.000 function_base.py:2416(<listcomp>)\n",
      "        2    0.000    0.000    0.000    0.000 function_base.py:346(iterable)\n",
      "     1015    2.181    0.002    2.181    0.002 schmidt_hw2.py:6(isperfect)\n",
      "        2    0.000    0.000    0.000    0.000 {built-in method builtins.any}\n",
      "        1    0.000    0.000    2.184    2.184 {built-in method builtins.exec}\n",
      "        4    0.000    0.000    0.000    0.000 {built-in method builtins.isinstance}\n",
      "        2    0.000    0.000    0.000    0.000 {built-in method builtins.iter}\n",
      "        4    0.000    0.000    0.000    0.000 {built-in method builtins.len}\n",
      "        1    0.000    0.000    0.000    0.000 {built-in method builtins.max}\n",
      "        2    0.000    0.000    0.000    0.000 {built-in method numpy.arange}\n",
      "        6    0.000    0.000    0.000    0.000 {built-in method numpy.asanyarray}\n",
      "        6    0.000    0.000    0.000    0.000 {built-in method numpy.asarray}\n",
      "        2    0.000    0.000    0.000    0.000 {built-in method numpy.core._multiarray_umath.implement_array_function}\n",
      "        2    0.000    0.000    0.000    0.000 {built-in method numpy.frompyfunc}\n",
      "        1    0.000    0.000    0.000    0.000 {method 'disable' of '_lsprof.Profiler' objects}\n",
      "        2    0.000    0.000    0.000    0.000 {method 'items' of 'dict' objects}\n",
      "        2    0.000    0.000    0.000    0.000 {method 'join' of 'str' objects}\n",
      "        2    0.000    0.000    0.000    0.000 {method 'reduce' of 'numpy.ufunc' objects}\n",
      "\n",
      "\n"
     ]
    }
   ],
   "source": [
    "cp.run(\"getLowUpper_v2(12345)\")"
   ]
  },
  {
   "cell_type": "markdown",
   "id": "4862f57f",
   "metadata": {},
   "source": [
    "One possible explanation for the worse performance is that the array is too large. Hence, instead of ensuring that the array is guaranteed to include an adjacent perfect square, I will now implement smaller arrays that are tested iteratively with arrays of varying sizes."
   ]
  },
  {
   "cell_type": "code",
   "execution_count": 39,
   "id": "1d1f32e0",
   "metadata": {},
   "outputs": [],
   "source": [
    "def getLowUpper_v3(n: int, array_size=20):\n",
    "    \"\"\"\n",
    "        This function is the second helper. It takes an integer n and returns the lower and upper perfect square root to n.\n",
    "        We will use two \"while\" loops here, but we could have used \"for\" loops or whatever.\n",
    "        The first that will catch the first perfect square root is less than the square root of n.\n",
    "        The second one will catch the first square root greater than the square root of n.\n",
    "\n",
    "        INPUT: n as an integer.\n",
    "        OUTPUT: a tuple (minsqrt:int, maxsqrt:int)\n",
    "\n",
    "        Examples:\n",
    "        getLowUpper(3) = (1,2)\n",
    "        getLowUpper(15) = (3,4)\n",
    "    \"\"\"\n",
    "    lower_found = False\n",
    "    lower_start = n\n",
    "    while not lower_found:\n",
    "        lower_arr = np.arange(lower_start-array_size, lower_start, 1)\n",
    "        mask_arr, int_arr = np.vectorize(v1.isperfect)(lower_arr)\n",
    "        lower_found = True in mask_arr\n",
    "        lower_start -= array_size\n",
    "        \n",
    "    minsqrt = np.max(int_arr[mask_arr])\n",
    "    \n",
    "    upper_found = False\n",
    "    upper_start = n\n",
    "    while not upper_found:\n",
    "        upper_arr = np.arange(upper_start, upper_start + array_size, 1)\n",
    "        mask_arr, int_arr = np.vectorize(v1.isperfect)(upper_arr)\n",
    "        upper_found = True in mask_arr\n",
    "        upper_start += array_size\n",
    "\n",
    "    maxsqrt = np.min(int_arr[mask_arr])  \n",
    "\n",
    "    return minsqrt, maxsqrt"
   ]
  },
  {
   "cell_type": "markdown",
   "id": "2eec8488",
   "metadata": {},
   "source": [
    "Trying different array sizes shows that this approach is faster than v2 but still slower than the original code (despite vectorization)"
   ]
  },
  {
   "cell_type": "code",
   "execution_count": 34,
   "id": "fc4d8bc8",
   "metadata": {
    "scrolled": true
   },
   "outputs": [
    {
     "name": "stdout",
     "output_type": "stream",
     "text": [
      "         1505 function calls in 0.591 seconds\n",
      "\n",
      "   Ordered by: standard name\n",
      "\n",
      "   ncalls  tottime  percall  cumtime  percall filename:lineno(function)\n",
      "        1    0.001    0.001    0.591    0.591 3150930661.py:1(getLowUpper_v3)\n",
      "        1    0.000    0.000    0.000    0.000 <__array_function__ internals>:177(amax)\n",
      "        1    0.000    0.000    0.000    0.000 <__array_function__ internals>:177(amin)\n",
      "        1    0.000    0.000    0.591    0.591 <string>:1(<module>)\n",
      "        1    0.000    0.000    0.000    0.000 fromnumeric.py:2672(_amax_dispatcher)\n",
      "        1    0.000    0.000    0.000    0.000 fromnumeric.py:2677(amax)\n",
      "        1    0.000    0.000    0.000    0.000 fromnumeric.py:2797(_amin_dispatcher)\n",
      "        1    0.000    0.000    0.000    0.000 fromnumeric.py:2802(amin)\n",
      "        2    0.000    0.000    0.000    0.000 fromnumeric.py:69(_wrapreduction)\n",
      "        2    0.000    0.000    0.000    0.000 fromnumeric.py:70(<dictcomp>)\n",
      "       45    0.000    0.000    0.001    0.000 function_base.py:2268(__init__)\n",
      "       45    0.000    0.000    0.589    0.013 function_base.py:2300(__call__)\n",
      "       45    0.001    0.000    0.110    0.002 function_base.py:2330(_get_ufunc_and_otypes)\n",
      "       45    0.000    0.000    0.000    0.000 function_base.py:2360(<listcomp>)\n",
      "       90    0.000    0.000    0.000    0.000 function_base.py:2361(<genexpr>)\n",
      "       45    0.000    0.000    0.000    0.000 function_base.py:2365(<listcomp>)\n",
      "       45    0.000    0.000    0.000    0.000 function_base.py:2389(<listcomp>)\n",
      "       45    0.001    0.000    0.589    0.013 function_base.py:2399(_vectorize_call)\n",
      "       45    0.000    0.000    0.000    0.000 function_base.py:2409(<listcomp>)\n",
      "       45    0.000    0.000    0.001    0.000 function_base.py:2416(<listcomp>)\n",
      "       45    0.000    0.000    0.000    0.000 function_base.py:346(iterable)\n",
      "      270    0.585    0.002    0.585    0.002 schmidt_hw2.py:6(isperfect)\n",
      "       45    0.000    0.000    0.000    0.000 {built-in method builtins.any}\n",
      "        1    0.000    0.000    0.591    0.591 {built-in method builtins.exec}\n",
      "       90    0.000    0.000    0.000    0.000 {built-in method builtins.isinstance}\n",
      "       45    0.000    0.000    0.000    0.000 {built-in method builtins.iter}\n",
      "       90    0.000    0.000    0.000    0.000 {built-in method builtins.len}\n",
      "       45    0.000    0.000    0.000    0.000 {built-in method numpy.arange}\n",
      "      135    0.000    0.000    0.000    0.000 {built-in method numpy.asanyarray}\n",
      "      135    0.000    0.000    0.000    0.000 {built-in method numpy.asarray}\n",
      "        2    0.000    0.000    0.000    0.000 {built-in method numpy.core._multiarray_umath.implement_array_function}\n",
      "       45    0.000    0.000    0.000    0.000 {built-in method numpy.frompyfunc}\n",
      "        1    0.000    0.000    0.000    0.000 {method 'disable' of '_lsprof.Profiler' objects}\n",
      "        2    0.000    0.000    0.000    0.000 {method 'items' of 'dict' objects}\n",
      "       45    0.000    0.000    0.000    0.000 {method 'join' of 'str' objects}\n",
      "        2    0.000    0.000    0.000    0.000 {method 'reduce' of 'numpy.ufunc' objects}\n",
      "\n",
      "\n"
     ]
    }
   ],
   "source": [
    "cp.run(\"getLowUpper_v3(12345, 5)\")"
   ]
  },
  {
   "cell_type": "code",
   "execution_count": 35,
   "id": "13ddc4e5",
   "metadata": {},
   "outputs": [
    {
     "name": "stdout",
     "output_type": "stream",
     "text": [
      "         894 function calls in 0.555 seconds\n",
      "\n",
      "   Ordered by: standard name\n",
      "\n",
      "   ncalls  tottime  percall  cumtime  percall filename:lineno(function)\n",
      "        1    0.001    0.001    0.555    0.555 3150930661.py:1(getLowUpper_v3)\n",
      "        1    0.000    0.000    0.000    0.000 <__array_function__ internals>:177(amax)\n",
      "        1    0.000    0.000    0.000    0.000 <__array_function__ internals>:177(amin)\n",
      "        1    0.000    0.000    0.555    0.555 <string>:1(<module>)\n",
      "        1    0.000    0.000    0.000    0.000 fromnumeric.py:2672(_amax_dispatcher)\n",
      "        1    0.000    0.000    0.000    0.000 fromnumeric.py:2677(amax)\n",
      "        1    0.000    0.000    0.000    0.000 fromnumeric.py:2797(_amin_dispatcher)\n",
      "        1    0.000    0.000    0.000    0.000 fromnumeric.py:2802(amin)\n",
      "        2    0.000    0.000    0.000    0.000 fromnumeric.py:69(_wrapreduction)\n",
      "        2    0.000    0.000    0.000    0.000 fromnumeric.py:70(<dictcomp>)\n",
      "       23    0.000    0.000    0.001    0.000 function_base.py:2268(__init__)\n",
      "       23    0.000    0.000    0.553    0.024 function_base.py:2300(__call__)\n",
      "       23    0.001    0.000    0.060    0.003 function_base.py:2330(_get_ufunc_and_otypes)\n",
      "       23    0.000    0.000    0.000    0.000 function_base.py:2360(<listcomp>)\n",
      "       46    0.000    0.000    0.000    0.000 function_base.py:2361(<genexpr>)\n",
      "       23    0.000    0.000    0.000    0.000 function_base.py:2365(<listcomp>)\n",
      "       23    0.000    0.000    0.000    0.000 function_base.py:2389(<listcomp>)\n",
      "       23    0.001    0.000    0.553    0.024 function_base.py:2399(_vectorize_call)\n",
      "       23    0.000    0.000    0.000    0.000 function_base.py:2409(<listcomp>)\n",
      "       23    0.000    0.000    0.000    0.000 function_base.py:2416(<listcomp>)\n",
      "       23    0.000    0.000    0.000    0.000 function_base.py:346(iterable)\n",
      "      253    0.550    0.002    0.550    0.002 schmidt_hw2.py:6(isperfect)\n",
      "       23    0.000    0.000    0.000    0.000 {built-in method builtins.any}\n",
      "        1    0.000    0.000    0.555    0.555 {built-in method builtins.exec}\n",
      "       46    0.000    0.000    0.000    0.000 {built-in method builtins.isinstance}\n",
      "       23    0.000    0.000    0.000    0.000 {built-in method builtins.iter}\n",
      "       46    0.000    0.000    0.000    0.000 {built-in method builtins.len}\n",
      "       23    0.000    0.000    0.000    0.000 {built-in method numpy.arange}\n",
      "       69    0.000    0.000    0.000    0.000 {built-in method numpy.asanyarray}\n",
      "       69    0.000    0.000    0.000    0.000 {built-in method numpy.asarray}\n",
      "        2    0.000    0.000    0.000    0.000 {built-in method numpy.core._multiarray_umath.implement_array_function}\n",
      "       23    0.000    0.000    0.000    0.000 {built-in method numpy.frompyfunc}\n",
      "        1    0.000    0.000    0.000    0.000 {method 'disable' of '_lsprof.Profiler' objects}\n",
      "        2    0.000    0.000    0.000    0.000 {method 'items' of 'dict' objects}\n",
      "       23    0.000    0.000    0.000    0.000 {method 'join' of 'str' objects}\n",
      "        2    0.000    0.000    0.000    0.000 {method 'reduce' of 'numpy.ufunc' objects}\n",
      "\n",
      "\n"
     ]
    }
   ],
   "source": [
    "cp.run(\"getLowUpper_v3(12345, 10)\")"
   ]
  },
  {
   "cell_type": "code",
   "execution_count": 36,
   "id": "97b09c51",
   "metadata": {},
   "outputs": [
    {
     "name": "stdout",
     "output_type": "stream",
     "text": [
      "         596 function calls in 0.545 seconds\n",
      "\n",
      "   Ordered by: standard name\n",
      "\n",
      "   ncalls  tottime  percall  cumtime  percall filename:lineno(function)\n",
      "        1    0.000    0.000    0.545    0.545 3150930661.py:1(getLowUpper_v3)\n",
      "        1    0.000    0.000    0.000    0.000 <__array_function__ internals>:177(amax)\n",
      "        1    0.000    0.000    0.000    0.000 <__array_function__ internals>:177(amin)\n",
      "        1    0.000    0.000    0.545    0.545 <string>:1(<module>)\n",
      "        1    0.000    0.000    0.000    0.000 fromnumeric.py:2672(_amax_dispatcher)\n",
      "        1    0.000    0.000    0.000    0.000 fromnumeric.py:2677(amax)\n",
      "        1    0.000    0.000    0.000    0.000 fromnumeric.py:2797(_amin_dispatcher)\n",
      "        1    0.000    0.000    0.000    0.000 fromnumeric.py:2802(amin)\n",
      "        2    0.000    0.000    0.000    0.000 fromnumeric.py:69(_wrapreduction)\n",
      "        2    0.000    0.000    0.000    0.000 fromnumeric.py:70(<dictcomp>)\n",
      "       12    0.000    0.000    0.000    0.000 function_base.py:2268(__init__)\n",
      "       12    0.000    0.000    0.545    0.045 function_base.py:2300(__call__)\n",
      "       12    0.000    0.000    0.032    0.003 function_base.py:2330(_get_ufunc_and_otypes)\n",
      "       12    0.000    0.000    0.000    0.000 function_base.py:2360(<listcomp>)\n",
      "       24    0.000    0.000    0.000    0.000 function_base.py:2361(<genexpr>)\n",
      "       12    0.000    0.000    0.000    0.000 function_base.py:2365(<listcomp>)\n",
      "       12    0.000    0.000    0.000    0.000 function_base.py:2389(<listcomp>)\n",
      "       12    0.001    0.000    0.545    0.045 function_base.py:2399(_vectorize_call)\n",
      "       12    0.000    0.000    0.000    0.000 function_base.py:2409(<listcomp>)\n",
      "       12    0.000    0.000    0.000    0.000 function_base.py:2416(<listcomp>)\n",
      "       12    0.000    0.000    0.000    0.000 function_base.py:346(iterable)\n",
      "      252    0.543    0.002    0.543    0.002 schmidt_hw2.py:6(isperfect)\n",
      "       12    0.000    0.000    0.000    0.000 {built-in method builtins.any}\n",
      "        1    0.000    0.000    0.545    0.545 {built-in method builtins.exec}\n",
      "       24    0.000    0.000    0.000    0.000 {built-in method builtins.isinstance}\n",
      "       12    0.000    0.000    0.000    0.000 {built-in method builtins.iter}\n",
      "       24    0.000    0.000    0.000    0.000 {built-in method builtins.len}\n",
      "       12    0.000    0.000    0.000    0.000 {built-in method numpy.arange}\n",
      "       36    0.000    0.000    0.000    0.000 {built-in method numpy.asanyarray}\n",
      "       36    0.000    0.000    0.000    0.000 {built-in method numpy.asarray}\n",
      "        2    0.000    0.000    0.000    0.000 {built-in method numpy.core._multiarray_umath.implement_array_function}\n",
      "       12    0.000    0.000    0.000    0.000 {built-in method numpy.frompyfunc}\n",
      "        1    0.000    0.000    0.000    0.000 {method 'disable' of '_lsprof.Profiler' objects}\n",
      "        2    0.000    0.000    0.000    0.000 {method 'items' of 'dict' objects}\n",
      "       12    0.000    0.000    0.000    0.000 {method 'join' of 'str' objects}\n",
      "        2    0.000    0.000    0.000    0.000 {method 'reduce' of 'numpy.ufunc' objects}\n",
      "\n",
      "\n"
     ]
    }
   ],
   "source": [
    "cp.run(\"getLowUpper_v3(12345, 20)\")"
   ]
  },
  {
   "cell_type": "code",
   "execution_count": 37,
   "id": "d2b68974",
   "metadata": {},
   "outputs": [
    {
     "name": "stdout",
     "output_type": "stream",
     "text": [
      "         410 function calls in 0.556 seconds\n",
      "\n",
      "   Ordered by: standard name\n",
      "\n",
      "   ncalls  tottime  percall  cumtime  percall filename:lineno(function)\n",
      "        1    0.000    0.000    0.556    0.556 3150930661.py:1(getLowUpper_v3)\n",
      "        1    0.000    0.000    0.000    0.000 <__array_function__ internals>:177(amax)\n",
      "        1    0.000    0.000    0.000    0.000 <__array_function__ internals>:177(amin)\n",
      "        1    0.000    0.000    0.556    0.556 <string>:1(<module>)\n",
      "        1    0.000    0.000    0.000    0.000 fromnumeric.py:2672(_amax_dispatcher)\n",
      "        1    0.000    0.000    0.000    0.000 fromnumeric.py:2677(amax)\n",
      "        1    0.000    0.000    0.000    0.000 fromnumeric.py:2797(_amin_dispatcher)\n",
      "        1    0.000    0.000    0.000    0.000 fromnumeric.py:2802(amin)\n",
      "        2    0.000    0.000    0.000    0.000 fromnumeric.py:69(_wrapreduction)\n",
      "        2    0.000    0.000    0.000    0.000 fromnumeric.py:70(<dictcomp>)\n",
      "        5    0.000    0.000    0.000    0.000 function_base.py:2268(__init__)\n",
      "        5    0.000    0.000    0.556    0.111 function_base.py:2300(__call__)\n",
      "        5    0.000    0.000    0.012    0.002 function_base.py:2330(_get_ufunc_and_otypes)\n",
      "        5    0.000    0.000    0.000    0.000 function_base.py:2360(<listcomp>)\n",
      "       10    0.000    0.000    0.000    0.000 function_base.py:2361(<genexpr>)\n",
      "        5    0.000    0.000    0.000    0.000 function_base.py:2365(<listcomp>)\n",
      "        5    0.000    0.000    0.000    0.000 function_base.py:2389(<listcomp>)\n",
      "        5    0.001    0.000    0.556    0.111 function_base.py:2399(_vectorize_call)\n",
      "        5    0.000    0.000    0.000    0.000 function_base.py:2409(<listcomp>)\n",
      "        5    0.000    0.000    0.000    0.000 function_base.py:2416(<listcomp>)\n",
      "        5    0.000    0.000    0.000    0.000 function_base.py:346(iterable)\n",
      "      255    0.554    0.002    0.554    0.002 schmidt_hw2.py:6(isperfect)\n",
      "        5    0.000    0.000    0.000    0.000 {built-in method builtins.any}\n",
      "        1    0.000    0.000    0.556    0.556 {built-in method builtins.exec}\n",
      "       10    0.000    0.000    0.000    0.000 {built-in method builtins.isinstance}\n",
      "        5    0.000    0.000    0.000    0.000 {built-in method builtins.iter}\n",
      "       10    0.000    0.000    0.000    0.000 {built-in method builtins.len}\n",
      "        5    0.000    0.000    0.000    0.000 {built-in method numpy.arange}\n",
      "       15    0.000    0.000    0.000    0.000 {built-in method numpy.asanyarray}\n",
      "       15    0.000    0.000    0.000    0.000 {built-in method numpy.asarray}\n",
      "        2    0.000    0.000    0.000    0.000 {built-in method numpy.core._multiarray_umath.implement_array_function}\n",
      "        5    0.000    0.000    0.000    0.000 {built-in method numpy.frompyfunc}\n",
      "        1    0.000    0.000    0.000    0.000 {method 'disable' of '_lsprof.Profiler' objects}\n",
      "        2    0.000    0.000    0.000    0.000 {method 'items' of 'dict' objects}\n",
      "        5    0.000    0.000    0.000    0.000 {method 'join' of 'str' objects}\n",
      "        2    0.000    0.000    0.000    0.000 {method 'reduce' of 'numpy.ufunc' objects}\n",
      "\n",
      "\n"
     ]
    }
   ],
   "source": [
    "cp.run(\"getLowUpper_v3(12345, 50)\")"
   ]
  },
  {
   "cell_type": "code",
   "execution_count": 38,
   "id": "ff94816f",
   "metadata": {},
   "outputs": [
    {
     "name": "stdout",
     "output_type": "stream",
     "text": [
      "         404 function calls in 0.662 seconds\n",
      "\n",
      "   Ordered by: standard name\n",
      "\n",
      "   ncalls  tottime  percall  cumtime  percall filename:lineno(function)\n",
      "        1    0.000    0.000    0.662    0.662 3150930661.py:1(getLowUpper_v3)\n",
      "        1    0.000    0.000    0.000    0.000 <__array_function__ internals>:177(amax)\n",
      "        1    0.000    0.000    0.000    0.000 <__array_function__ internals>:177(amin)\n",
      "        1    0.000    0.000    0.662    0.662 <string>:1(<module>)\n",
      "        1    0.000    0.000    0.000    0.000 fromnumeric.py:2672(_amax_dispatcher)\n",
      "        1    0.000    0.000    0.000    0.000 fromnumeric.py:2677(amax)\n",
      "        1    0.000    0.000    0.000    0.000 fromnumeric.py:2797(_amin_dispatcher)\n",
      "        1    0.000    0.000    0.000    0.000 fromnumeric.py:2802(amin)\n",
      "        2    0.000    0.000    0.000    0.000 fromnumeric.py:69(_wrapreduction)\n",
      "        2    0.000    0.000    0.000    0.000 fromnumeric.py:70(<dictcomp>)\n",
      "        3    0.000    0.000    0.000    0.000 function_base.py:2268(__init__)\n",
      "        3    0.000    0.000    0.661    0.220 function_base.py:2300(__call__)\n",
      "        3    0.000    0.000    0.010    0.003 function_base.py:2330(_get_ufunc_and_otypes)\n",
      "        3    0.000    0.000    0.000    0.000 function_base.py:2360(<listcomp>)\n",
      "        6    0.000    0.000    0.000    0.000 function_base.py:2361(<genexpr>)\n",
      "        3    0.000    0.000    0.000    0.000 function_base.py:2365(<listcomp>)\n",
      "        3    0.000    0.000    0.000    0.000 function_base.py:2389(<listcomp>)\n",
      "        3    0.001    0.000    0.661    0.220 function_base.py:2399(_vectorize_call)\n",
      "        3    0.000    0.000    0.000    0.000 function_base.py:2409(<listcomp>)\n",
      "        3    0.000    0.000    0.000    0.000 function_base.py:2416(<listcomp>)\n",
      "        3    0.000    0.000    0.000    0.000 function_base.py:346(iterable)\n",
      "      303    0.660    0.002    0.660    0.002 schmidt_hw2.py:6(isperfect)\n",
      "        3    0.000    0.000    0.000    0.000 {built-in method builtins.any}\n",
      "        1    0.000    0.000    0.662    0.662 {built-in method builtins.exec}\n",
      "        6    0.000    0.000    0.000    0.000 {built-in method builtins.isinstance}\n",
      "        3    0.000    0.000    0.000    0.000 {built-in method builtins.iter}\n",
      "        6    0.000    0.000    0.000    0.000 {built-in method builtins.len}\n",
      "        3    0.000    0.000    0.000    0.000 {built-in method numpy.arange}\n",
      "        9    0.000    0.000    0.000    0.000 {built-in method numpy.asanyarray}\n",
      "        9    0.000    0.000    0.000    0.000 {built-in method numpy.asarray}\n",
      "        2    0.000    0.000    0.000    0.000 {built-in method numpy.core._multiarray_umath.implement_array_function}\n",
      "        3    0.000    0.000    0.000    0.000 {built-in method numpy.frompyfunc}\n",
      "        1    0.000    0.000    0.000    0.000 {method 'disable' of '_lsprof.Profiler' objects}\n",
      "        2    0.000    0.000    0.000    0.000 {method 'items' of 'dict' objects}\n",
      "        3    0.000    0.000    0.000    0.000 {method 'join' of 'str' objects}\n",
      "        2    0.000    0.000    0.000    0.000 {method 'reduce' of 'numpy.ufunc' objects}\n",
      "\n",
      "\n"
     ]
    }
   ],
   "source": [
    "cp.run(\"getLowUpper_v3(12345, 100)\")"
   ]
  },
  {
   "cell_type": "markdown",
   "id": "8da35f0e",
   "metadata": {},
   "source": [
    "Trying a larger number and comparing it with v1 also shows no real improvement"
   ]
  },
  {
   "cell_type": "code",
   "execution_count": 44,
   "id": "21212c84",
   "metadata": {},
   "outputs": [
    {
     "name": "stdout",
     "output_type": "stream",
     "text": [
      "         1748 function calls in 16.554 seconds\n",
      "\n",
      "   Ordered by: standard name\n",
      "\n",
      "   ncalls  tottime  percall  cumtime  percall filename:lineno(function)\n",
      "        1    0.003    0.003   16.553   16.553 2216340445.py:1(getLowUpper_v3)\n",
      "        1    0.000    0.000    0.000    0.000 <__array_function__ internals>:177(amax)\n",
      "        1    0.000    0.000    0.000    0.000 <__array_function__ internals>:177(amin)\n",
      "        1    0.000    0.000   16.553   16.553 <string>:1(<module>)\n",
      "        1    0.000    0.000    0.000    0.000 fromnumeric.py:2672(_amax_dispatcher)\n",
      "        1    0.000    0.000    0.000    0.000 fromnumeric.py:2677(amax)\n",
      "        1    0.000    0.000    0.000    0.000 fromnumeric.py:2797(_amin_dispatcher)\n",
      "        1    0.000    0.000    0.000    0.000 fromnumeric.py:2802(amin)\n",
      "        2    0.000    0.000    0.000    0.000 fromnumeric.py:69(_wrapreduction)\n",
      "        2    0.000    0.000    0.000    0.000 fromnumeric.py:70(<dictcomp>)\n",
      "       36    0.001    0.000    0.001    0.000 function_base.py:2268(__init__)\n",
      "       36    0.001    0.000   16.549    0.460 function_base.py:2300(__call__)\n",
      "       36    0.001    0.000    0.891    0.025 function_base.py:2330(_get_ufunc_and_otypes)\n",
      "       36    0.000    0.000    0.000    0.000 function_base.py:2360(<listcomp>)\n",
      "       72    0.000    0.000    0.000    0.000 function_base.py:2361(<genexpr>)\n",
      "       36    0.000    0.000    0.000    0.000 function_base.py:2365(<listcomp>)\n",
      "       36    0.000    0.000    0.001    0.000 function_base.py:2389(<listcomp>)\n",
      "       36    0.003    0.000   16.549    0.460 function_base.py:2399(_vectorize_call)\n",
      "       36    0.000    0.000    0.000    0.000 function_base.py:2409(<listcomp>)\n",
      "       36    0.000    0.000    0.001    0.000 function_base.py:2416(<listcomp>)\n",
      "       36    0.000    0.000    0.000    0.000 function_base.py:346(iterable)\n",
      "      756   16.540    0.022   16.540    0.022 schmidt_hw2.py:6(isperfect)\n",
      "       36    0.000    0.000    0.000    0.000 {built-in method builtins.any}\n",
      "        1    0.000    0.000   16.554   16.554 {built-in method builtins.exec}\n",
      "       72    0.000    0.000    0.000    0.000 {built-in method builtins.isinstance}\n",
      "       36    0.000    0.000    0.000    0.000 {built-in method builtins.iter}\n",
      "       72    0.000    0.000    0.000    0.000 {built-in method builtins.len}\n",
      "       36    0.000    0.000    0.000    0.000 {built-in method numpy.arange}\n",
      "      108    0.001    0.000    0.001    0.000 {built-in method numpy.asanyarray}\n",
      "      108    0.000    0.000    0.000    0.000 {built-in method numpy.asarray}\n",
      "        2    0.000    0.000    0.000    0.000 {built-in method numpy.core._multiarray_umath.implement_array_function}\n",
      "       36    0.000    0.000    0.000    0.000 {built-in method numpy.frompyfunc}\n",
      "        1    0.000    0.000    0.000    0.000 {method 'disable' of '_lsprof.Profiler' objects}\n",
      "        2    0.000    0.000    0.000    0.000 {method 'items' of 'dict' objects}\n",
      "       36    0.000    0.000    0.000    0.000 {method 'join' of 'str' objects}\n",
      "        2    0.000    0.000    0.000    0.000 {method 'reduce' of 'numpy.ufunc' objects}\n",
      "\n",
      "\n"
     ]
    }
   ],
   "source": [
    "cp.run(\"getLowUpper_v3(123456, 20)\")"
   ]
  },
  {
   "cell_type": "code",
   "execution_count": 42,
   "id": "d648bd8b",
   "metadata": {},
   "outputs": [
    {
     "name": "stdout",
     "output_type": "stream",
     "text": [
      "         707 function calls in 16.023 seconds\n",
      "\n",
      "   Ordered by: standard name\n",
      "\n",
      "   ncalls  tottime  percall  cumtime  percall filename:lineno(function)\n",
      "        1    0.000    0.000   16.023   16.023 <string>:1(<module>)\n",
      "        1    0.001    0.001   16.023   16.023 schmidt_hw2.py:31(getLowUpper)\n",
      "      703   16.021    0.023   16.021    0.023 schmidt_hw2.py:6(isperfect)\n",
      "        1    0.000    0.000   16.023   16.023 {built-in method builtins.exec}\n",
      "        1    0.000    0.000    0.000    0.000 {method 'disable' of '_lsprof.Profiler' objects}\n",
      "\n",
      "\n"
     ]
    }
   ],
   "source": [
    "cp.run(\"v1.getLowUpper(123456)\")"
   ]
  },
  {
   "cell_type": "markdown",
   "id": "09e2abca",
   "metadata": {},
   "source": [
    "### Conclusion on LowUpper\n",
    "As shown by the experiments above, vectorizing the function calls made by `getLowUpper` does not seem to lead to time improvements."
   ]
  },
  {
   "cell_type": "markdown",
   "id": "73958add",
   "metadata": {},
   "source": [
    "## Adaption 2: Vectorize `isperfect`\n",
    "As `isperfect` loops through all numbers smaller than the input integer `n` there is room for improvement here.\n",
    "\n",
    "To do so, I create an array until n-2 (Because 4 is the smallest perfect square possible after catching 0 and 1 as exceptions, 2 is included in the array in this case and all larger integers `n` have a square root that is smaller than `n-2`).\n",
    "\n",
    "Then I square all values in the array and `np.where` returns the index of an element being equal to `n` if it exists. Otherwise, the resulting array is empty and `n` is not perfect. Return either the identified root and True or `n` and False."
   ]
  },
  {
   "cell_type": "code",
   "execution_count": 73,
   "id": "b83f00e3",
   "metadata": {},
   "outputs": [],
   "source": [
    "def isperfect_v2(n: int ):\n",
    "    \"\"\"\n",
    "        This function is the first helper. It takes an integer n and checks if n has a perfect square root or not.\n",
    "        If n has a perfect square root, then it returns True and its perfect square root. If not, it returns False and n.\n",
    "\n",
    "        INPUT: n as an integer.\n",
    "        OUTPUT: a tuple (bool, int).\n",
    "\n",
    "        Examples:\n",
    "        isperfect(0) = (True, 0)\n",
    "        isperfect(1) = (True, 1)\n",
    "        isperfect(3) = (False, 3)\n",
    "        isperfect(16) = (True, 4)\n",
    "    \"\"\"\n",
    "    if n == 0 or n == 1:\n",
    "        return (True, n)\n",
    "\n",
    "    ### BEGIN CODE #####\n",
    "    arr = np.arange(2, n-1, 1)\n",
    "    index = np.where(arr**2==n)[0]\n",
    "    if index.size == 0:\n",
    "        return False, n\n",
    "    return True, arr[index][0]\n",
    "    ### END CODE #####"
   ]
  },
  {
   "cell_type": "markdown",
   "id": "fbc36d4e",
   "metadata": {},
   "source": [
    "Comparing both implementations shows clear improvement due to vectorization"
   ]
  },
  {
   "cell_type": "code",
   "execution_count": 79,
   "id": "cdedffd4",
   "metadata": {},
   "outputs": [
    {
     "name": "stdout",
     "output_type": "stream",
     "text": [
      "         4 function calls in 2.196 seconds\n",
      "\n",
      "   Ordered by: standard name\n",
      "\n",
      "   ncalls  tottime  percall  cumtime  percall filename:lineno(function)\n",
      "        1    0.000    0.000    2.196    2.196 <string>:1(<module>)\n",
      "        1    2.196    2.196    2.196    2.196 schmidt_hw2.py:6(isperfect)\n",
      "        1    0.000    0.000    2.196    2.196 {built-in method builtins.exec}\n",
      "        1    0.000    0.000    0.000    0.000 {method 'disable' of '_lsprof.Profiler' objects}\n",
      "\n",
      "\n"
     ]
    }
   ],
   "source": [
    "cp.run(\"v1.isperfect(12345678)\")"
   ]
  },
  {
   "cell_type": "code",
   "execution_count": 80,
   "id": "9514659c",
   "metadata": {},
   "outputs": [
    {
     "name": "stdout",
     "output_type": "stream",
     "text": [
      "         8 function calls in 0.070 seconds\n",
      "\n",
      "   Ordered by: standard name\n",
      "\n",
      "   ncalls  tottime  percall  cumtime  percall filename:lineno(function)\n",
      "        1    0.045    0.045    0.069    0.069 1372425994.py:1(isperfect_v2)\n",
      "        1    0.000    0.000    0.001    0.001 <__array_function__ internals>:177(where)\n",
      "        1    0.000    0.000    0.070    0.070 <string>:1(<module>)\n",
      "        1    0.000    0.000    0.000    0.000 multiarray.py:341(where)\n",
      "        1    0.000    0.000    0.070    0.070 {built-in method builtins.exec}\n",
      "        1    0.022    0.022    0.022    0.022 {built-in method numpy.arange}\n",
      "        1    0.001    0.001    0.001    0.001 {built-in method numpy.core._multiarray_umath.implement_array_function}\n",
      "        1    0.000    0.000    0.000    0.000 {method 'disable' of '_lsprof.Profiler' objects}\n",
      "\n",
      "\n"
     ]
    }
   ],
   "source": [
    "cp.run(\"isperfect_v2(12345678)\")"
   ]
  },
  {
   "cell_type": "markdown",
   "id": "d22e99d5",
   "metadata": {},
   "source": [
    "### Comparison: Vectorize `isperfect` and `getLowUpper` together\n",
    "As the two functions below show, chaining the vectorization of `isperfect` with that of `getLowUpper` does not improve time complexity. The `getLowUpper_v4` is the same as v1 but uses the vectorized version of `isperfect` while `getLowUpper_v5` uses arrays for finding the next perfect square root. As shown below, v4 is a lot faster."
   ]
  },
  {
   "cell_type": "code",
   "execution_count": 93,
   "id": "5645a4b6",
   "metadata": {},
   "outputs": [],
   "source": [
    "def getLowUpper_v4(n: int):\n",
    "    \"\"\"\n",
    "    This function is the second helper. It takes an integer n and returns the lower and upper perfect square root to n.\n",
    "    We will use numpy vectorization to find the lower and upper perfect square roots.\n",
    "\n",
    "    INPUT: n as an integer.\n",
    "    OUTPUT: a tuple (minsqrt:int, maxsqrt:int)\n",
    "\n",
    "    Examples:\n",
    "    getLowUpper(3) = (1,2)\n",
    "    getLowUpper(15) = (3,4)\n",
    "    \"\"\"\n",
    "    i = 1\n",
    "    ### BEGIN CODE ####\n",
    "    low = isperfect_v2(n-i)\n",
    "    upper = isperfect_v2(n+i)\n",
    "\n",
    "    while not low[0]: ## Hint: look at the second while loop.\n",
    "        i = i+1\n",
    "        low = isperfect_v2(n-i)\n",
    "\n",
    "    i = 1\n",
    "    while not upper[0]:\n",
    "        i += 1\n",
    "        upper = isperfect_v2(n+i)\n",
    "\n",
    "    minsqrt, maxsqrt = low[1], upper[1]\n",
    "    \n",
    "    return minsqrt, maxsqrt"
   ]
  },
  {
   "cell_type": "code",
   "execution_count": 94,
   "id": "9b7ecd81",
   "metadata": {},
   "outputs": [],
   "source": [
    "def getLowUpper_v5(n: int):\n",
    "    \"\"\"\n",
    "        This function is the second helper. It takes an integer n and returns the lower and upper perfect square root to n.\n",
    "        We will use two \"while\" loops here, but we could have used \"for\" loops or whatever.\n",
    "        The first that will catch the first perfect square root is less than the square root of n.\n",
    "        The second one will catch the first square root greater than the square root of n.\n",
    "\n",
    "        INPUT: n as an integer.\n",
    "        OUTPUT: a tuple (minsqrt:int, maxsqrt:int)\n",
    "\n",
    "        Examples:\n",
    "        getLowUpper(3) = (1,2)\n",
    "        getLowUpper(15) = (3,4)\n",
    "    \"\"\"\n",
    "    lower_arr, upper_arr = create_ranges(n)\n",
    "    \n",
    "    lower_mask, lower_int = np.vectorize(isperfect_v2)(lower_arr)\n",
    "    minsqrt = lower_int[lower_mask].max()\n",
    "    \n",
    "    upper_mask, upper_int = np.vectorize(isperfect_v2)(upper_arr)\n",
    "    maxsqrt = upper_int[upper_mask].min()\n",
    "\n",
    "    return minsqrt, maxsqrt"
   ]
  },
  {
   "cell_type": "code",
   "execution_count": 99,
   "id": "b761618f",
   "metadata": {},
   "outputs": [
    {
     "name": "stdout",
     "output_type": "stream",
     "text": [
      "         3519 function calls in 0.075 seconds\n",
      "\n",
      "   Ordered by: standard name\n",
      "\n",
      "   ncalls  tottime  percall  cumtime  percall filename:lineno(function)\n",
      "        1    0.001    0.001    0.075    0.075 1360873061.py:1(getLowUpper_v4)\n",
      "      703    0.036    0.000    0.073    0.000 1372425994.py:1(isperfect_v2)\n",
      "      703    0.003    0.000    0.009    0.000 <__array_function__ internals>:177(where)\n",
      "        1    0.000    0.000    0.075    0.075 <string>:1(<module>)\n",
      "      703    0.001    0.000    0.001    0.000 multiarray.py:341(where)\n",
      "        1    0.000    0.000    0.075    0.075 {built-in method builtins.exec}\n",
      "      703    0.028    0.000    0.028    0.000 {built-in method numpy.arange}\n",
      "      703    0.004    0.000    0.004    0.000 {built-in method numpy.core._multiarray_umath.implement_array_function}\n",
      "        1    0.000    0.000    0.000    0.000 {method 'disable' of '_lsprof.Profiler' objects}\n",
      "\n",
      "\n"
     ]
    }
   ],
   "source": [
    "cp.run(\"getLowUpper_v4(123456)\")"
   ]
  },
  {
   "cell_type": "code",
   "execution_count": 100,
   "id": "4aa112b5",
   "metadata": {},
   "outputs": [
    {
     "name": "stdout",
     "output_type": "stream",
     "text": [
      "         50691 function calls in 1.021 seconds\n",
      "\n",
      "   Ordered by: standard name\n",
      "\n",
      "   ncalls  tottime  percall  cumtime  percall filename:lineno(function)\n",
      "    10125    0.499    0.000    1.002    0.000 1372425994.py:1(isperfect_v2)\n",
      "        1    0.000    0.000    1.021    1.021 1900466169.py:1(getLowUpper_v5)\n",
      "        1    0.000    0.000    0.000    0.000 3018333493.py:1(create_ranges)\n",
      "    10125    0.043    0.000    0.118    0.000 <__array_function__ internals>:177(where)\n",
      "        1    0.000    0.000    1.021    1.021 <string>:1(<module>)\n",
      "        1    0.000    0.000    0.000    0.000 _methods.py:38(_amax)\n",
      "        1    0.000    0.000    0.000    0.000 _methods.py:42(_amin)\n",
      "        2    0.000    0.000    0.000    0.000 function_base.py:2268(__init__)\n",
      "        2    0.000    0.000    1.020    0.510 function_base.py:2300(__call__)\n",
      "        2    0.000    0.000    0.001    0.001 function_base.py:2330(_get_ufunc_and_otypes)\n",
      "        2    0.000    0.000    0.000    0.000 function_base.py:2360(<listcomp>)\n",
      "        4    0.000    0.000    0.000    0.000 function_base.py:2361(<genexpr>)\n",
      "        2    0.000    0.000    0.000    0.000 function_base.py:2365(<listcomp>)\n",
      "        2    0.000    0.000    0.000    0.000 function_base.py:2389(<listcomp>)\n",
      "        2    0.017    0.008    1.020    0.510 function_base.py:2399(_vectorize_call)\n",
      "        2    0.000    0.000    0.000    0.000 function_base.py:2409(<listcomp>)\n",
      "        2    0.000    0.000    0.000    0.000 function_base.py:2416(<listcomp>)\n",
      "        2    0.000    0.000    0.000    0.000 function_base.py:346(iterable)\n",
      "    10125    0.014    0.000    0.014    0.000 multiarray.py:341(where)\n",
      "        2    0.000    0.000    0.000    0.000 {built-in method builtins.any}\n",
      "        1    0.000    0.000    1.021    1.021 {built-in method builtins.exec}\n",
      "        4    0.000    0.000    0.000    0.000 {built-in method builtins.isinstance}\n",
      "        2    0.000    0.000    0.000    0.000 {built-in method builtins.iter}\n",
      "        4    0.000    0.000    0.000    0.000 {built-in method builtins.len}\n",
      "        1    0.000    0.000    0.000    0.000 {built-in method builtins.max}\n",
      "    10127    0.386    0.000    0.386    0.000 {built-in method numpy.arange}\n",
      "        6    0.001    0.000    0.001    0.000 {built-in method numpy.asanyarray}\n",
      "        6    0.000    0.000    0.000    0.000 {built-in method numpy.asarray}\n",
      "    10125    0.061    0.000    0.061    0.000 {built-in method numpy.core._multiarray_umath.implement_array_function}\n",
      "        2    0.000    0.000    0.000    0.000 {built-in method numpy.frompyfunc}\n",
      "        1    0.000    0.000    0.000    0.000 {method 'disable' of '_lsprof.Profiler' objects}\n",
      "        2    0.000    0.000    0.000    0.000 {method 'join' of 'str' objects}\n",
      "        1    0.000    0.000    0.000    0.000 {method 'max' of 'numpy.ndarray' objects}\n",
      "        1    0.000    0.000    0.000    0.000 {method 'min' of 'numpy.ndarray' objects}\n",
      "        2    0.000    0.000    0.000    0.000 {method 'reduce' of 'numpy.ufunc' objects}\n",
      "\n",
      "\n"
     ]
    }
   ],
   "source": [
    "cp.run(\"getLowUpper_v5(123456)\")"
   ]
  },
  {
   "cell_type": "code",
   "execution_count": 101,
   "id": "7e195196",
   "metadata": {},
   "outputs": [
    {
     "name": "stdout",
     "output_type": "stream",
     "text": [
      "         707 function calls in 15.384 seconds\n",
      "\n",
      "   Ordered by: standard name\n",
      "\n",
      "   ncalls  tottime  percall  cumtime  percall filename:lineno(function)\n",
      "        1    0.000    0.000   15.384   15.384 <string>:1(<module>)\n",
      "        1    0.001    0.001   15.384   15.384 schmidt_hw2.py:31(getLowUpper)\n",
      "      703   15.383    0.022   15.383    0.022 schmidt_hw2.py:6(isperfect)\n",
      "        1    0.000    0.000   15.384   15.384 {built-in method builtins.exec}\n",
      "        1    0.000    0.000    0.000    0.000 {method 'disable' of '_lsprof.Profiler' objects}\n",
      "\n",
      "\n"
     ]
    }
   ],
   "source": [
    "cp.run(\"v1.getLowUpper(123456)\")"
   ]
  },
  {
   "cell_type": "markdown",
   "id": "fd285736",
   "metadata": {},
   "source": [
    "## Adaption 3: Precalculating `sqrt(n)` in `mysqrt`\n",
    "As a small adaption, I want to also evaluate if there is benefit in calculating `np.sqrt(n)` once and reusing this in each loop of `mysqrt`. Apart from this change, v1 and v2 are identical"
   ]
  },
  {
   "cell_type": "code",
   "execution_count": 108,
   "id": "1624706c",
   "metadata": {},
   "outputs": [],
   "source": [
    "def mysqrt_v1(n: int, error_threshold=0.000000001) -> float:\n",
    "    \"\"\"\n",
    "        This function is the main function. It takes an integer n and returns the square root of n.\n",
    "        We will use here the two helper functions we wrote previously.\n",
    "\n",
    "\n",
    "        INPUT: n as an integer.\n",
    "        OUTPUT: a float rst\n",
    "\n",
    "        Examples:\n",
    "        mysqrt(3) = 1.7320508076809347\n",
    "        mysqrt(15) = 3.8729833462275565\n",
    "    \"\"\"\n",
    "\n",
    "    ### BEGIN CODE ###\n",
    "    if n == 0 or n == 1: ## Hint: remember to always start by basic case solution. for the square root problem, we have 0 and 1\n",
    "        return n\n",
    "    ### END CODE ###\n",
    "\n",
    "\n",
    "\n",
    "    ### BEGIN CODE ###\n",
    "    checkup = isperfect_v2(n) # Hint: use the one of the helpers you already coded.\n",
    "    if checkup[0] : # How to access an element of the tuple?\n",
    "        return checkup[1] #Choose the right index...\n",
    "    ### END CODE ###\n",
    "\n",
    "    iteration = 0 # The variable is used to count the number of times we repeat the instructions in the while loop\n",
    "\n",
    "    ### BEGING CODE ###\n",
    "    minsqrt, maxsqrt = getLowUpper_v4(n) #Hint: use the second helper function.\n",
    "\n",
    "    rst =  (minsqrt + maxsqrt) / 2\n",
    "    \n",
    "    while abs(np.sqrt(n)-rst) >= error_threshold:\n",
    "            if rst**2 < n : # Hint: have a look at the first function.\n",
    "                    minsqrt = rst\n",
    "            else :\n",
    "                    maxsqrt = rst\n",
    "            rst = (minsqrt + maxsqrt) / 2\n",
    "            iteration +=1\n",
    "    ### END CODE ####\n",
    "\n",
    "    return rst"
   ]
  },
  {
   "cell_type": "code",
   "execution_count": 109,
   "id": "4a371490",
   "metadata": {},
   "outputs": [],
   "source": [
    "def mysqrt_v2(n: int, error_threshold=0.000000001) -> float:\n",
    "    \"\"\"\n",
    "        This function is the main function. It takes an integer n and returns the square root of n.\n",
    "        We will use here the two helper functions we wrote previously.\n",
    "\n",
    "\n",
    "        INPUT: n as an integer.\n",
    "        OUTPUT: a float rst\n",
    "\n",
    "        Examples:\n",
    "        mysqrt(3) = 1.7320508076809347\n",
    "        mysqrt(15) = 3.8729833462275565\n",
    "    \"\"\"\n",
    "\n",
    "    ### BEGIN CODE ###\n",
    "    if n == 0 or n == 1: ## Hint: remember to always start by basic case solution. for the square root problem, we have 0 and 1\n",
    "        return n\n",
    "    ### END CODE ###\n",
    "\n",
    "\n",
    "\n",
    "    ### BEGIN CODE ###\n",
    "    checkup = isperfect_v2(n) # Hint: use the one of the helpers you already coded.\n",
    "    if checkup[0] : # How to access an element of the tuple?\n",
    "        return checkup[1] #Choose the right index...\n",
    "    ### END CODE ###\n",
    "\n",
    "    iteration = 0 # The variable is used to count the number of times we repeat the instructions in the while loop\n",
    "\n",
    "    ### BEGING CODE ###\n",
    "    minsqrt, maxsqrt = getLowUpper_v4(n) #Hint: use the second helper function.\n",
    "\n",
    "    rst =  (minsqrt + maxsqrt) / 2\n",
    "    np_sqrt = np.sqrt(n)\n",
    "    \n",
    "    while abs(np_sqrt-rst) >= error_threshold:\n",
    "            if rst**2 < n : # Hint: have a look at the first function.\n",
    "                    minsqrt = rst\n",
    "            else :\n",
    "                    maxsqrt = rst\n",
    "            rst = (minsqrt + maxsqrt) / 2\n",
    "            iteration +=1\n",
    "    ### END CODE ####\n",
    "\n",
    "    return rst"
   ]
  },
  {
   "cell_type": "code",
   "execution_count": 119,
   "id": "d62da39e",
   "metadata": {},
   "outputs": [
    {
     "name": "stdout",
     "output_type": "stream",
     "text": [
      "         11162 function calls in 5.321 seconds\n",
      "\n",
      "   Ordered by: standard name\n",
      "\n",
      "   ncalls  tottime  percall  cumtime  percall filename:lineno(function)\n",
      "        1    0.009    0.009    5.315    5.315 1360873061.py:1(getLowUpper_v4)\n",
      "     2224    3.481    0.002    5.311    0.002 1372425994.py:1(isperfect_v2)\n",
      "        1    0.000    0.000    5.321    5.321 524931815.py:1(mysqrt_v1)\n",
      "     2224    0.015    0.000    0.238    0.000 <__array_function__ internals>:177(where)\n",
      "        1    0.000    0.000    5.321    5.321 <string>:1(<module>)\n",
      "     2224    0.004    0.000    0.004    0.000 multiarray.py:341(where)\n",
      "       37    0.000    0.000    0.000    0.000 {built-in method builtins.abs}\n",
      "        1    0.000    0.000    5.321    5.321 {built-in method builtins.exec}\n",
      "     2224    1.592    0.001    1.592    0.001 {built-in method numpy.arange}\n",
      "     2224    0.218    0.000    0.218    0.000 {built-in method numpy.core._multiarray_umath.implement_array_function}\n",
      "        1    0.000    0.000    0.000    0.000 {method 'disable' of '_lsprof.Profiler' objects}\n",
      "\n",
      "\n"
     ]
    }
   ],
   "source": [
    "cp.run(\"mysqrt_v1(1234567, 0.000000000001)\")"
   ]
  },
  {
   "cell_type": "code",
   "execution_count": 120,
   "id": "360c3eaa",
   "metadata": {},
   "outputs": [
    {
     "name": "stdout",
     "output_type": "stream",
     "text": [
      "         11162 function calls in 4.970 seconds\n",
      "\n",
      "   Ordered by: standard name\n",
      "\n",
      "   ncalls  tottime  percall  cumtime  percall filename:lineno(function)\n",
      "        1    0.009    0.009    4.965    4.965 1360873061.py:1(getLowUpper_v4)\n",
      "     2224    3.244    0.001    4.961    0.002 1372425994.py:1(isperfect_v2)\n",
      "        1    0.000    0.000    4.970    4.970 2809391626.py:1(mysqrt_v2)\n",
      "     2224    0.015    0.000    0.233    0.000 <__array_function__ internals>:177(where)\n",
      "        1    0.000    0.000    4.970    4.970 <string>:1(<module>)\n",
      "     2224    0.004    0.000    0.004    0.000 multiarray.py:341(where)\n",
      "       37    0.000    0.000    0.000    0.000 {built-in method builtins.abs}\n",
      "        1    0.000    0.000    4.970    4.970 {built-in method builtins.exec}\n",
      "     2224    1.483    0.001    1.483    0.001 {built-in method numpy.arange}\n",
      "     2224    0.214    0.000    0.214    0.000 {built-in method numpy.core._multiarray_umath.implement_array_function}\n",
      "        1    0.000    0.000    0.000    0.000 {method 'disable' of '_lsprof.Profiler' objects}\n",
      "\n",
      "\n"
     ]
    }
   ],
   "source": [
    "cp.run(\"mysqrt_v2(1234567, 0.000000000001)\")"
   ]
  },
  {
   "cell_type": "markdown",
   "id": "7bc2ab03",
   "metadata": {},
   "source": [
    "### Conclusion\n",
    "\n",
    "While there were some differences between v2, these were not consistent between different tries (even for the same number)."
   ]
  },
  {
   "cell_type": "markdown",
   "id": "59eb3517",
   "metadata": {},
   "source": [
    "# Overall conclusion\n",
    "As shown by adaptions 1 and 2, vectorizing `isperfect` leads to very noticeable improvement in time complexity while trying to vectorize `getLowUpper` did not prove successful.\n",
    "\n",
    "A comparison of the different implementations can be found in the notebook evaluation_hw3."
   ]
  }
 ],
 "metadata": {
  "kernelspec": {
   "display_name": "icds",
   "language": "python",
   "name": "icds"
  },
  "language_info": {
   "codemirror_mode": {
    "name": "ipython",
    "version": 3
   },
   "file_extension": ".py",
   "mimetype": "text/x-python",
   "name": "python",
   "nbconvert_exporter": "python",
   "pygments_lexer": "ipython3",
   "version": "3.10.10"
  }
 },
 "nbformat": 4,
 "nbformat_minor": 5
}
