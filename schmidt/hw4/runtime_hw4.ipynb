{
 "cells": [
  {
   "cell_type": "markdown",
   "id": "85d0ca53",
   "metadata": {},
   "source": [
    "# Time comparison\n",
    "Compare runtime for vectorized implementation and loop implementation"
   ]
  },
  {
   "cell_type": "code",
   "execution_count": 1,
   "id": "c2b3b628",
   "metadata": {},
   "outputs": [],
   "source": [
    "import time\n",
    "from schmidt_hw4 import estimate_pi as vectorized\n",
    "from template_hw2 import NoName as looped"
   ]
  },
  {
   "cell_type": "code",
   "execution_count": 2,
   "id": "be197f2b",
   "metadata": {},
   "outputs": [],
   "source": [
    "numbers = [10**i for i in range(3, 8)]"
   ]
  },
  {
   "cell_type": "code",
   "execution_count": 3,
   "id": "a7b3f031",
   "metadata": {},
   "outputs": [],
   "source": [
    "def get_time(func, number):\n",
    "    start = time.time()\n",
    "    result = func(number)\n",
    "    return result, time.time() - start"
   ]
  },
  {
   "cell_type": "code",
   "execution_count": 4,
   "id": "f1c2867c",
   "metadata": {},
   "outputs": [],
   "source": [
    "looped_results = [get_time(looped, num) for num in numbers]"
   ]
  },
  {
   "cell_type": "code",
   "execution_count": 5,
   "id": "c0edc016",
   "metadata": {},
   "outputs": [],
   "source": [
    "vectorized_results = [get_time(vectorized, num) for num in numbers]"
   ]
  },
  {
   "cell_type": "code",
   "execution_count": 6,
   "id": "14182e96",
   "metadata": {},
   "outputs": [
    {
     "data": {
      "text/plain": [
       "[(3.06, 0.003243684768676758),\n",
       " (3.1508, 0.01713871955871582),\n",
       " (3.14168, 0.13923406600952148),\n",
       " (3.144248, 1.560844898223877),\n",
       " (3.141568, 14.196348428726196)]"
      ]
     },
     "execution_count": 6,
     "metadata": {},
     "output_type": "execute_result"
    }
   ],
   "source": [
    "looped_results"
   ]
  },
  {
   "cell_type": "code",
   "execution_count": 7,
   "id": "4f38744f",
   "metadata": {},
   "outputs": [
    {
     "data": {
      "text/plain": [
       "[(3.172, 0.00102996826171875),\n",
       " (3.1512, 0.0004773139953613281),\n",
       " (3.14656, 0.0038361549377441406),\n",
       " (3.142036, 0.016571998596191406),\n",
       " (3.1417284, 0.1946568489074707)]"
      ]
     },
     "execution_count": 7,
     "metadata": {},
     "output_type": "execute_result"
    }
   ],
   "source": [
    "vectorized_results"
   ]
  },
  {
   "cell_type": "markdown",
   "id": "ff4d225d",
   "metadata": {},
   "source": [
    "## Relative time reduction"
   ]
  },
  {
   "cell_type": "code",
   "execution_count": 9,
   "id": "7358137e",
   "metadata": {},
   "outputs": [
    {
     "name": "stdout",
     "output_type": "stream",
     "text": [
      "Percentage reduction in time for each number N\n",
      "1000: 0.6824696802646086\n",
      "10000: 0.9721499617444529\n",
      "100000: 0.972448158358876\n",
      "1000000: 0.989382674335516\n",
      "10000000: 0.9862882451860941\n"
     ]
    }
   ],
   "source": [
    "print('Percentage reduction in time for each number N')\n",
    "for i, num in enumerate(numbers):\n",
    "    time_loop = looped_results[i][1]\n",
    "    time_vec = vectorized_results[i][1]\n",
    "    print(f'{num}: {(time_loop-time_vec)/time_loop}')"
   ]
  }
 ],
 "metadata": {
  "kernelspec": {
   "display_name": "icds",
   "language": "python",
   "name": "icds"
  },
  "language_info": {
   "codemirror_mode": {
    "name": "ipython",
    "version": 3
   },
   "file_extension": ".py",
   "mimetype": "text/x-python",
   "name": "python",
   "nbconvert_exporter": "python",
   "pygments_lexer": "ipython3",
   "version": "3.10.10"
  }
 },
 "nbformat": 4,
 "nbformat_minor": 5
}
