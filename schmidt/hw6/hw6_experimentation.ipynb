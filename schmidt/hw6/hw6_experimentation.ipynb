{
 "cells": [
  {
   "cell_type": "code",
   "execution_count": 1,
   "id": "ab773601",
   "metadata": {},
   "outputs": [],
   "source": [
    "import numpy as np"
   ]
  },
  {
   "cell_type": "markdown",
   "id": "1aa15f68",
   "metadata": {},
   "source": [
    "# Euclidean distance"
   ]
  },
  {
   "cell_type": "markdown",
   "id": "4f143647",
   "metadata": {},
   "source": [
    "## New axis for broadcasting\n",
    "In order to vectorize the distance calculation, we need to expand the arrays. This enables broadcasting"
   ]
  },
  {
   "cell_type": "code",
   "execution_count": 2,
   "id": "3bf8b02c",
   "metadata": {},
   "outputs": [
    {
     "data": {
      "text/plain": [
       "(3, 2)"
      ]
     },
     "execution_count": 2,
     "metadata": {},
     "output_type": "execute_result"
    }
   ],
   "source": [
    "centroids = np.array([[0.0, 0.0], [1.0, 1.0], [2.0, 2.0]])\n",
    "centroids.shape"
   ]
  },
  {
   "cell_type": "code",
   "execution_count": 3,
   "id": "78e6b109",
   "metadata": {},
   "outputs": [
    {
     "data": {
      "text/plain": [
       "(1, 3, 2)"
      ]
     },
     "execution_count": 3,
     "metadata": {},
     "output_type": "execute_result"
    }
   ],
   "source": [
    "centroids_expanded = centroids[np.newaxis, :, :]\n",
    "centroids_expanded.shape"
   ]
  },
  {
   "cell_type": "code",
   "execution_count": 4,
   "id": "d22895da",
   "metadata": {},
   "outputs": [
    {
     "data": {
      "text/plain": [
       "(4, 2)"
      ]
     },
     "execution_count": 4,
     "metadata": {},
     "output_type": "execute_result"
    }
   ],
   "source": [
    "points = np.array([[0.0, 0.0], [1.0, 1.0], [2.0, 2.0], [3.0, 3.0]])\n",
    "points.shape"
   ]
  },
  {
   "cell_type": "code",
   "execution_count": 5,
   "id": "7014e016",
   "metadata": {},
   "outputs": [
    {
     "data": {
      "text/plain": [
       "(4, 1, 2)"
      ]
     },
     "execution_count": 5,
     "metadata": {},
     "output_type": "execute_result"
    }
   ],
   "source": [
    "points_expanded = points[:, np.newaxis, :]\n",
    "points_expanded.shape"
   ]
  },
  {
   "cell_type": "code",
   "execution_count": 6,
   "id": "3d1b3198",
   "metadata": {},
   "outputs": [
    {
     "data": {
      "text/plain": [
       "(4, 3, 2)"
      ]
     },
     "execution_count": 6,
     "metadata": {},
     "output_type": "execute_result"
    }
   ],
   "source": [
    "dist = points_expanded - centroids_expanded\n",
    "dist.shape"
   ]
  },
  {
   "cell_type": "code",
   "execution_count": 7,
   "id": "fb5cf3fc",
   "metadata": {},
   "outputs": [
    {
     "data": {
      "text/plain": [
       "array([[[ 0.,  0.],\n",
       "        [-1., -1.],\n",
       "        [-2., -2.]],\n",
       "\n",
       "       [[ 1.,  1.],\n",
       "        [ 0.,  0.],\n",
       "        [-1., -1.]],\n",
       "\n",
       "       [[ 2.,  2.],\n",
       "        [ 1.,  1.],\n",
       "        [ 0.,  0.]],\n",
       "\n",
       "       [[ 3.,  3.],\n",
       "        [ 2.,  2.],\n",
       "        [ 1.,  1.]]])"
      ]
     },
     "execution_count": 7,
     "metadata": {},
     "output_type": "execute_result"
    }
   ],
   "source": [
    "dist"
   ]
  },
  {
   "cell_type": "markdown",
   "id": "87c179e9",
   "metadata": {},
   "source": [
    "## Sum of squared distances and Euc. distance"
   ]
  },
  {
   "cell_type": "code",
   "execution_count": 8,
   "id": "952aa760",
   "metadata": {},
   "outputs": [
    {
     "data": {
      "text/plain": [
       "array([[ 0.,  2.,  8.],\n",
       "       [ 2.,  0.,  2.],\n",
       "       [ 8.,  2.,  0.],\n",
       "       [18.,  8.,  2.]])"
      ]
     },
     "execution_count": 8,
     "metadata": {},
     "output_type": "execute_result"
    }
   ],
   "source": [
    "sum_squared = np.sum(dist**2, axis=2)\n",
    "sum_squared"
   ]
  },
  {
   "cell_type": "code",
   "execution_count": 9,
   "id": "4e282d33",
   "metadata": {},
   "outputs": [
    {
     "data": {
      "text/plain": [
       "array([[0.        , 1.41421356, 2.82842712],\n",
       "       [1.41421356, 0.        , 1.41421356],\n",
       "       [2.82842712, 1.41421356, 0.        ],\n",
       "       [4.24264069, 2.82842712, 1.41421356]])"
      ]
     },
     "execution_count": 9,
     "metadata": {},
     "output_type": "execute_result"
    }
   ],
   "source": [
    "euc_dist = np.sqrt(sum_squared)\n",
    "euc_dist"
   ]
  },
  {
   "cell_type": "markdown",
   "id": "ff572f73",
   "metadata": {},
   "source": [
    "## Function"
   ]
  },
  {
   "cell_type": "code",
   "execution_count": 10,
   "id": "61142e8d",
   "metadata": {},
   "outputs": [],
   "source": [
    "def euclidean_distance(points: np.array, centroids: np.array) -> np.array:\n",
    "    # 1. Create views on both arrays with an additional axisto use broadcasting\n",
    "    points_expanded = points[:, np.newaxis, :]\n",
    "    centroids_expanded = centroids[np.newaxis, :, :]\n",
    "    \n",
    "    # 2. Calculate the sum of squared differences for each point-centroid-combination\n",
    "    # The sum is over axis=2, because axis=0 contains all points, axis=1 contains all centroids and axis=2 contains the respective coordinates \n",
    "    sum_squared = np.sum((points_expanded - centroids_expanded)**2, axis=2)\n",
    "    \n",
    "    # 3. Return the square root of the sum of squared distances to get euclidean distance\n",
    "    return np.sqrt(sum_squared)"
   ]
  },
  {
   "cell_type": "markdown",
   "id": "d35f9dcd",
   "metadata": {},
   "source": [
    "# Update centroids"
   ]
  },
  {
   "cell_type": "markdown",
   "id": "46bb8f2c",
   "metadata": {},
   "source": [
    "## Select centroid for each point based on minimal distance "
   ]
  },
  {
   "cell_type": "code",
   "execution_count": 11,
   "id": "a5343e64",
   "metadata": {},
   "outputs": [
    {
     "data": {
      "text/plain": [
       "array([0, 1, 2, 2])"
      ]
     },
     "execution_count": 11,
     "metadata": {},
     "output_type": "execute_result"
    }
   ],
   "source": [
    "selected_centroids = np.argmin(euc_dist, axis=1)\n",
    "selected_centroids"
   ]
  },
  {
   "cell_type": "markdown",
   "id": "06b9d58a",
   "metadata": {},
   "source": [
    "## Use selected_centroids for subsetting\n",
    "The selected_centroids array can be used as a mask array to get only the points assigned to that specific centroid"
   ]
  },
  {
   "cell_type": "code",
   "execution_count": 12,
   "id": "f300889f",
   "metadata": {},
   "outputs": [
    {
     "data": {
      "text/plain": [
       "array([[2., 2.],\n",
       "       [3., 3.]])"
      ]
     },
     "execution_count": 12,
     "metadata": {},
     "output_type": "execute_result"
    }
   ],
   "source": [
    "cluster2 = points[selected_centroids==2]\n",
    "cluster2"
   ]
  },
  {
   "cell_type": "code",
   "execution_count": 13,
   "id": "437a218a",
   "metadata": {},
   "outputs": [
    {
     "data": {
      "text/plain": [
       "array([2.5, 2.5])"
      ]
     },
     "execution_count": 13,
     "metadata": {},
     "output_type": "execute_result"
    }
   ],
   "source": [
    "np.mean(cluster2, axis=0)"
   ]
  },
  {
   "cell_type": "markdown",
   "id": "6fcf4339",
   "metadata": {},
   "source": [
    "## Update the centroids in a loop"
   ]
  },
  {
   "cell_type": "code",
   "execution_count": 14,
   "id": "53dcb363",
   "metadata": {},
   "outputs": [],
   "source": [
    "for i in range(centroids.shape[0]):\n",
    "    cluster = points[selected_centroids==i]\n",
    "    new_centroid = np.mean(cluster, axis=0)\n",
    "    centroids[i, :] = new_centroid"
   ]
  },
  {
   "cell_type": "code",
   "execution_count": 15,
   "id": "56ac7c58",
   "metadata": {},
   "outputs": [
    {
     "data": {
      "text/plain": [
       "array([[0. , 0. ],\n",
       "       [1. , 1. ],\n",
       "       [2.5, 2.5]])"
      ]
     },
     "execution_count": 15,
     "metadata": {},
     "output_type": "execute_result"
    }
   ],
   "source": [
    "centroids"
   ]
  },
  {
   "cell_type": "markdown",
   "id": "b3e3ed6c",
   "metadata": {},
   "source": [
    "## Function"
   ]
  },
  {
   "cell_type": "code",
   "execution_count": 16,
   "id": "f15f6b89",
   "metadata": {},
   "outputs": [],
   "source": [
    "def update_centroids(points: np.array, centroids: np.array, euc_dist: np.array) -> np.array:\n",
    "    selected_centroids = np.argmin(euc_dist, axis=1)\n",
    "    for i in range(centroids.shape[0]):\n",
    "        cluster = points[selected_centroids==i]\n",
    "        new_centroid = np.mean(cluster, axis=0)\n",
    "        centroids[i, :] = new_centroid\n",
    "    \n",
    "    return centroids"
   ]
  },
  {
   "cell_type": "markdown",
   "id": "20414b24",
   "metadata": {},
   "source": [
    "# Validate\n",
    "Below, I will validate the code using the example points from class"
   ]
  },
  {
   "cell_type": "markdown",
   "id": "7f147da8",
   "metadata": {},
   "source": [
    "## Initialize points and centroids"
   ]
  },
  {
   "cell_type": "code",
   "execution_count": 17,
   "id": "201d1585",
   "metadata": {},
   "outputs": [],
   "source": [
    "rng = np.random.default_rng(seed = 1234)\n",
    "cl1 = rng.multivariate_normal([-2,-2], [[1,-0.5],[-0.5,1]], size=100)\n",
    "cl2 = rng.multivariate_normal([1,0], [[1,0],[0,1]], size=150)\n",
    "cl3 = rng.multivariate_normal([3,2], [[1,-0.7],[-0.7,1]], size=200)\n",
    "pts = np.concatenate((cl1,cl2,cl3))"
   ]
  },
  {
   "cell_type": "markdown",
   "id": "da22d946",
   "metadata": {},
   "source": [
    "Select three random centroids"
   ]
  },
  {
   "cell_type": "code",
   "execution_count": 18,
   "id": "7766ee1a",
   "metadata": {},
   "outputs": [
    {
     "data": {
      "text/plain": [
       "array([[ 0.52484033,  0.02424452],\n",
       "       [ 1.73118867, -0.22964706],\n",
       "       [-1.7258032 , -0.83710488]])"
      ]
     },
     "execution_count": 18,
     "metadata": {},
     "output_type": "execute_result"
    }
   ],
   "source": [
    "idx = np.random.randint(pts.shape[0], size=3)\n",
    "centroids = pts[idx]\n",
    "centroids"
   ]
  },
  {
   "cell_type": "markdown",
   "id": "b9835ed7",
   "metadata": {},
   "source": [
    "## Iterate until centroids do not change anymore"
   ]
  },
  {
   "cell_type": "code",
   "execution_count": 22,
   "id": "15446ed6",
   "metadata": {},
   "outputs": [],
   "source": [
    "euc_dist = euclidean_distance(pts, centroids)"
   ]
  },
  {
   "cell_type": "code",
   "execution_count": 23,
   "id": "ef4926c8",
   "metadata": {
    "scrolled": true
   },
   "outputs": [],
   "source": [
    "centroids = update_centroids(pts, centroids, euc_dist)"
   ]
  },
  {
   "cell_type": "code",
   "execution_count": 24,
   "id": "ef693d4c",
   "metadata": {},
   "outputs": [
    {
     "data": {
      "text/plain": [
       "array([[ 0.81048433,  0.37567953],\n",
       "       [ 2.99160512,  1.72573031],\n",
       "       [-1.86160111, -1.83338785]])"
      ]
     },
     "execution_count": 24,
     "metadata": {},
     "output_type": "execute_result"
    }
   ],
   "source": [
    "centroids"
   ]
  },
  {
   "cell_type": "code",
   "execution_count": 25,
   "id": "9b786be4",
   "metadata": {},
   "outputs": [],
   "source": [
    "converged = False"
   ]
  },
  {
   "cell_type": "code",
   "execution_count": 26,
   "id": "8ed1b730",
   "metadata": {},
   "outputs": [],
   "source": [
    "while not converged:\n",
    "    old_centroids = np.copy(centroids)\n",
    "    euc_dist = euclidean_distance(pts, centroids)\n",
    "    centroids = update_centroids(pts, centroids, euc_dist)\n",
    "    if np.array_equal(old_centroids, centroids):\n",
    "        converged = True"
   ]
  },
  {
   "cell_type": "code",
   "execution_count": 27,
   "id": "2c84fec7",
   "metadata": {},
   "outputs": [
    {
     "data": {
      "text/plain": [
       "array([[ 0.90582982, -0.16728387],\n",
       "       [ 2.87614469,  1.95184761],\n",
       "       [-2.03956666, -1.85662027]])"
      ]
     },
     "execution_count": 27,
     "metadata": {},
     "output_type": "execute_result"
    }
   ],
   "source": [
    "centroids"
   ]
  },
  {
   "cell_type": "code",
   "execution_count": null,
   "id": "9f964c5e",
   "metadata": {},
   "outputs": [],
   "source": []
  }
 ],
 "metadata": {
  "kernelspec": {
   "display_name": "icds",
   "language": "python",
   "name": "icds"
  },
  "language_info": {
   "codemirror_mode": {
    "name": "ipython",
    "version": 3
   },
   "file_extension": ".py",
   "mimetype": "text/x-python",
   "name": "python",
   "nbconvert_exporter": "python",
   "pygments_lexer": "ipython3",
   "version": "3.10.10"
  }
 },
 "nbformat": 4,
 "nbformat_minor": 5
}
